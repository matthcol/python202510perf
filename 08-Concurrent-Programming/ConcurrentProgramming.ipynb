{
 "cells": [
  {
   "cell_type": "markdown",
   "id": "e9560c56-262f-4e50-afd4-05b9fd12664f",
   "metadata": {},
   "source": [
    "# Programmation concurrente"
   ]
  },
  {
   "cell_type": "code",
   "execution_count": 57,
   "id": "4bda3e1a-e131-48a7-8eb9-bfc15e353a66",
   "metadata": {},
   "outputs": [],
   "source": [
    "from concurrent.futures import (\n",
    "    Future,\n",
    "    ThreadPoolExecutor, \n",
    "    ProcessPoolExecutor,\n",
    "    as_completed,\n",
    ")\n",
    "import os\n",
    "import requests\n",
    "import time # sleep\n",
    "import random\n",
    "import math\n",
    "\n",
    "# async programming\n",
    "import asyncio\n",
    "import aiohttp"
   ]
  },
  {
   "cell_type": "markdown",
   "id": "d2e0b22b-29f5-4c23-8b99-88994d7587f6",
   "metadata": {},
   "source": [
    "## Module: concurrent.futures\n",
    "- ordonnanceur de tâches utilisant un pool de process ou de thread (choix taille)\n",
    "- objet Future gerant le job et vson futur résultat"
   ]
  },
  {
   "cell_type": "code",
   "execution_count": 12,
   "id": "ea359974-4b53-48e9-ba55-8ee72f163d2b",
   "metadata": {},
   "outputs": [
    {
     "name": "stdout",
     "output_type": "stream",
     "text": [
      "Nb coeurs: 16\n",
      "Nb workers: 20\n"
     ]
    }
   ],
   "source": [
    "cpu_count = os.cpu_count()\n",
    "process_cpu_count = os.process_cpu_count() # même fonction que cpu_count\n",
    "# default_workers =  min(32, cpu_count + 4) # Python 3.5+\n",
    "default_workers =  min(32, (process_cpu_count or 1) + 4) # Python 3.13+\n",
    "print('Nb coeurs:', cpu_count)\n",
    "print('Nb workers:', default_workers)"
   ]
  },
  {
   "cell_type": "code",
   "execution_count": 25,
   "id": "07a35e55-7578-4a6e-98ce-1d4711f9538f",
   "metadata": {},
   "outputs": [
    {
     "data": {
      "text/plain": [
       "<concurrent.futures.thread.ThreadPoolExecutor at 0x1f5cae60690>"
      ]
     },
     "execution_count": 25,
     "metadata": {},
     "output_type": "execute_result"
    }
   ],
   "source": [
    "pool = ThreadPoolExecutor(max_workers=5)\n",
    "pool"
   ]
  },
  {
   "cell_type": "code",
   "execution_count": 29,
   "id": "5ccbd9d3-a69b-4d3d-acf7-78f9f35e841d",
   "metadata": {},
   "outputs": [],
   "source": [
    "pool.shutdown()"
   ]
  },
  {
   "cell_type": "code",
   "execution_count": 32,
   "id": "cee79449-91a1-43fa-9e3a-17c85d28f1ec",
   "metadata": {},
   "outputs": [],
   "source": [
    "urls = [\n",
    "    \"https://docs.python.org/3/library/concurrent.futures.html\",\n",
    "    \"https://numpy.org/doc/stable/reference/index.html\",\n",
    "    \"https://pandas.pydata.org/docs/reference/index.html\",\n",
    "    \"https://nourl.nourl\"\n",
    "]\n",
    "    "
   ]
  },
  {
   "cell_type": "code",
   "execution_count": 36,
   "id": "6038e6bd-ebb8-4b7d-b524-39b546416553",
   "metadata": {},
   "outputs": [],
   "source": [
    "def get_url_v0(url):\n",
    "    try:\n",
    "        r = requests.get(url)\n",
    "        if r.status_code == 200:\n",
    "            print('OK:', r.text[:50])\n",
    "        else:\n",
    "            print(f'Error: {r.status_code}')\n",
    "    except:\n",
    "        print(f'Error: exception')"
   ]
  },
  {
   "cell_type": "code",
   "execution_count": 37,
   "id": "ffa7919c-50c9-4766-afd2-47f28a16cf37",
   "metadata": {},
   "outputs": [],
   "source": [
    "def get_url(url):\n",
    "    time.sleep(random.randint(2,10))\n",
    "    try:\n",
    "        r = requests.get(url)\n",
    "        if r.status_code == 200:\n",
    "            return r.text\n",
    "        else:\n",
    "            return None\n",
    "    except:\n",
    "        return None"
   ]
  },
  {
   "cell_type": "code",
   "execution_count": 38,
   "id": "130ef97b-5539-43b4-9701-e9e6f9c18f18",
   "metadata": {},
   "outputs": [
    {
     "name": "stdout",
     "output_type": "stream",
     "text": [
      "[<Future at 0x17e5d84e8d0 state=running>, <Future at 0x17e5d84cfd0 state=running>, <Future at 0x17e5d84e4d0 state=running>, <Future at 0x17e5d84e850 state=running>]\n",
      "[<Future at 0x17e5d84e8d0 state=finished returned str>, <Future at 0x17e5d84cfd0 state=finished returned str>, <Future at 0x17e5d84e4d0 state=finished returned str>, <Future at 0x17e5d84e850 state=finished returned NoneType>]\n"
     ]
    },
    {
     "data": {
      "text/plain": [
       "['<!DOCTYPE ', '\\n<!DOCTYPE', '\\n<!DOCTYPE', 'KO']"
      ]
     },
     "execution_count": 38,
     "metadata": {},
     "output_type": "execute_result"
    }
   ],
   "source": [
    "# main thread\n",
    "with ThreadPoolExecutor(max_workers=5) as pool:\n",
    "    jobs = [ \n",
    "        pool.submit(get_url, url) # started in a different thread\n",
    "        for url in urls\n",
    "    ]\n",
    "    print(jobs)\n",
    "\n",
    "    # attente explicite (avec timeout eventuel):\n",
    "    results = [ job.result() for job in jobs ]\n",
    "        \n",
    "# __exit__ : pool.shutdown() # defaut: wait sur tous les jobs\n",
    "print(jobs)\n",
    "# results = [ job.result() for job in jobs ] # sans attente\n",
    "[ (r[:10] if r is not None else 'KO') for r in results ]"
   ]
  },
  {
   "cell_type": "code",
   "execution_count": 39,
   "id": "348bb0fd-080c-4c65-805e-6d9a8f00fe4d",
   "metadata": {},
   "outputs": [
    {
     "data": {
      "text/plain": [
       "['<!DOCTYPE ', '\\n<!DOCTYPE', '\\n<!DOCTYPE', 'KO']"
      ]
     },
     "execution_count": 39,
     "metadata": {},
     "output_type": "execute_result"
    }
   ],
   "source": [
    "# main thread\n",
    "with ThreadPoolExecutor(max_workers=5) as pool:\n",
    "    results = list(pool.map(get_url, urls)) # list consomme les résultats et fait l'attente\n",
    "[ (r[:10] if r is not None else 'KO') for r in results ]"
   ]
  },
  {
   "cell_type": "markdown",
   "id": "c9e6a4ad-6524-493e-98b8-739c12876311",
   "metadata": {},
   "source": []
  },
  {
   "cell_type": "markdown",
   "id": "dcd2cf08-dbb3-4f55-bbdf-d698e05c82bc",
   "metadata": {},
   "source": [
    "## Traitement au fil de l'eau\n",
    "iterateur: `as_completed`"
   ]
  },
  {
   "cell_type": "code",
   "execution_count": 40,
   "id": "c8af68ed-df30-40c6-90a0-2d6068d5cb43",
   "metadata": {},
   "outputs": [],
   "source": [
    "doc_sources = {\n",
    "    \"python\": \"https://docs.python.org/3/library/concurrent.futures.html\",\n",
    "    \"numpy\": \"https://numpy.org/doc/stable/reference/index.html\",\n",
    "    \"pandas\": \"https://pandas.pydata.org/docs/reference/index.html\",\n",
    "    \"dummy\": \"https://nourl.nourl\",\n",
    "    \"requests\": \"https://pypi.org/project/requests/\",\n",
    "    \"beautiful soup\": \"https://tedboy.github.io/bs4_doc\",\n",
    "    \"scrapy\": \"https://docs.scrapy.org/en/latest/\",\n",
    "}"
   ]
  },
  {
   "cell_type": "code",
   "execution_count": 46,
   "id": "443b9577-10b9-4f24-a7fd-c4117cdfde21",
   "metadata": {},
   "outputs": [
    {
     "name": "stdout",
     "output_type": "stream",
     "text": [
      "Jobs started: {<Future at 0x17e5d838650 state=running>: 'python', <Future at 0x17e5d84e5d0 state=running>: 'numpy', <Future at 0x17e5d84db50 state=running>: 'pandas', <Future at 0x17e5d84ca50 state=pending>: 'dummy', <Future at 0x17e5d84d250 state=pending>: 'requests', <Future at 0x17e5d84dad0 state=pending>: 'beautiful soup', <Future at 0x17e5d84f6d0 state=pending>: 'scrapy'}\n",
      "\n",
      "* Finished [pandas]: <Future at 0x17e5d84db50 state=finished returned str>\n",
      "Result (extract):\n",
      "\n",
      "<!DOCTYPE html>\n",
      "\n",
      "\n",
      "<html lang=\"en\" data-content_root=\"../\" >\n",
      "\n",
      "  <head>\n",
      "    <meta charset=\"utf-8\" />\n",
      "\n",
      "\n",
      "* Finished [numpy]: <Future at 0x17e5d84e5d0 state=finished returned str>\n",
      "Result (extract):\n",
      "\n",
      "<!DOCTYPE html>\n",
      "\n",
      "\n",
      "<html lang=\"en\" data-content_root=\"../\" data-theme=\"light\">\n",
      "\n",
      "  <head>\n",
      "    <meta c\n",
      "\n",
      "* Finished [python]: <Future at 0x17e5d838650 state=finished returned str>\n",
      "Result (extract):\n",
      "<!DOCTYPE html>\n",
      "\n",
      "<html lang=\"en\" data-content_root=\"../\">\n",
      "  <head>\n",
      "    <meta charset=\"utf-8\" />\n",
      "    \n",
      "\n",
      "* Finished [dummy]: <Future at 0x17e5d84ca50 state=finished returned NoneType>\n",
      "Result (extract):\n",
      "KO\n",
      "\n",
      "* Finished [beautiful soup]: <Future at 0x17e5d84dad0 state=finished returned str>\n",
      "Result (extract):\n",
      "\n",
      "\n",
      "<!DOCTYPE html>\n",
      "<!--[if IE 8]><html class=\"no-js lt-ie9\" lang=\"en\" > <![endif]-->\n",
      "<!--[if gt IE 8]\n",
      "\n",
      "* Finished [requests]: <Future at 0x17e5d84d250 state=finished returned str>\n",
      "Result (extract):\n",
      "<!DOCTYPE html>\n",
      "<html lang=\"en\" dir=\"ltr\">\n",
      "  <head>\n",
      "    <meta charset=\"utf-8\">\n",
      "    <meta http-equiv=\n",
      "\n",
      "* Finished [scrapy]: <Future at 0x17e5d84f6d0 state=finished returned str>\n",
      "Result (extract):\n",
      "\n",
      "\n",
      "<!DOCTYPE html>\n",
      "<html class=\"writer-html5\" lang=\"en\" data-content_root=\"./\">\n",
      "<head>\n",
      "  <meta charse\n",
      "\n"
     ]
    }
   ],
   "source": [
    "with ThreadPoolExecutor(max_workers=3) as pool:\n",
    "    job_dict: dict[Future, str] = {}\n",
    "    for doc_name, url in doc_sources.items():\n",
    "        job = pool.submit(get_url, url)\n",
    "        job_dict[job] = doc_name\n",
    "    print('Jobs started:', job_dict)\n",
    "    print()\n",
    "    \n",
    "    # traiter les jobs dans l'ordre de finition\n",
    "    for job in as_completed(job_dict.keys()):\n",
    "        source = job_dict[job]\n",
    "        print(f'* Finished [{source}]: {job}')\n",
    "        result = job.result() # immediate (job already finished)\n",
    "        print('Result (extract):')\n",
    "        print((result[:100] if result is not None else 'KO'))\n",
    "        print()"
   ]
  },
  {
   "cell_type": "markdown",
   "id": "26f3223d-d8be-4150-aa0e-20e2f728eab2",
   "metadata": {},
   "source": [
    "## Async programming\n",
    "voir programme python asunc_downloader.py"
   ]
  },
  {
   "cell_type": "markdown",
   "id": "6260bd68-974d-4cb5-afa6-ec475b01a905",
   "metadata": {},
   "source": [
    "## Calcul concurrent"
   ]
  },
  {
   "cell_type": "code",
   "execution_count": 2,
   "id": "a2c29a59-caa6-4a2a-9618-e88cc8e80736",
   "metadata": {},
   "outputs": [],
   "source": [
    "PRIMES = [\n",
    "    112272535095293,\n",
    "    112582705942171,\n",
    "    112272535095293,\n",
    "    115280095190773,\n",
    "    115797848077099,\n",
    "    1099726899285419]\n",
    "\n",
    "def is_prime(n):\n",
    "    if n < 2:\n",
    "        return False\n",
    "    if n == 2:\n",
    "        return True\n",
    "    if n % 2 == 0:\n",
    "        return False\n",
    "\n",
    "    sqrt_n = int(math.floor(math.sqrt(n)))\n",
    "    for i in range(3, sqrt_n + 1, 2):\n",
    "        if n % i == 0:\n",
    "            return False\n",
    "    return True"
   ]
  },
  {
   "cell_type": "code",
   "execution_count": 4,
   "id": "2a68052f-4a48-42a2-ab24-5182291663c3",
   "metadata": {},
   "outputs": [],
   "source": [
    "def calcul_monothread(primes):\n",
    "    return [is_prime(n) for n in primes]"
   ]
  },
  {
   "cell_type": "code",
   "execution_count": 10,
   "id": "b4598caf-85ec-4aec-b949-3a3f362dc841",
   "metadata": {},
   "outputs": [
    {
     "name": "stdout",
     "output_type": "stream",
     "text": [
      "2.39 s ± 60.1 ms per loop (mean ± std. dev. of 7 runs, 1 loop each)\n"
     ]
    }
   ],
   "source": [
    "%timeit -n1 -r7 calcul_monothread(PRIMES)"
   ]
  },
  {
   "cell_type": "code",
   "execution_count": 19,
   "id": "ee9bbf97-cc02-4508-8db7-99830c362ee0",
   "metadata": {},
   "outputs": [],
   "source": [
    "def calcul_multithread(primes):\n",
    "    with ThreadPoolExecutor() as pool:\n",
    "        return list(pool.map(is_prime, primes))"
   ]
  },
  {
   "cell_type": "code",
   "execution_count": 20,
   "id": "17758c13-fabb-4f76-b2f8-b245d3758444",
   "metadata": {},
   "outputs": [
    {
     "name": "stdout",
     "output_type": "stream",
     "text": [
      "2.56 s ± 186 ms per loop (mean ± std. dev. of 7 runs, 1 loop each)\n"
     ]
    }
   ],
   "source": [
    "# AIE AIE AIE GIL is here\n",
    "%timeit -n1 -r7 calcul_multithread(PRIMES)"
   ]
  },
  {
   "cell_type": "code",
   "execution_count": 24,
   "id": "17d49d0e-a9e6-4a9a-87a2-0ae5fd4e9355",
   "metadata": {},
   "outputs": [],
   "source": [
    "def calcul_multiprocess(primes):\n",
    "    with ProcessPoolExecutor() as pool:\n",
    "        return list(pool.map(is_prime, primes))\n",
    "\n",
    "# A executer dans un vrai code python protegé par (if __name__ == \"__main__\") pour que le fork ce passe bien"
   ]
  }
 ],
 "metadata": {
  "kernelspec": {
   "display_name": "Python 3 (ipykernel)",
   "language": "python",
   "name": "python3"
  },
  "language_info": {
   "codemirror_mode": {
    "name": "ipython",
    "version": 3
   },
   "file_extension": ".py",
   "mimetype": "text/x-python",
   "name": "python",
   "nbconvert_exporter": "python",
   "pygments_lexer": "ipython3",
   "version": "3.13.7"
  }
 },
 "nbformat": 4,
 "nbformat_minor": 5
}
