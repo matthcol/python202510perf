{
 "cells": [
  {
   "cell_type": "markdown",
   "id": "83eed0a6-b06c-4516-bd4d-9be5929d6bbe",
   "metadata": {},
   "source": [
    "# Builtin and operators\n",
    "Quelques demos d'implementation de builtins (`str`, `repr`, `bool`) et opérateurs (`==`, `+`, `-`)\n",
    "sur des types de Python et de numpy"
   ]
  },
  {
   "cell_type": "code",
   "execution_count": 1,
   "id": "852871f9-1334-4969-85a1-78231c6fd7c2",
   "metadata": {},
   "outputs": [],
   "source": [
    "import numpy as np\n",
    "import pandas as pd\n",
    "from datetime import datetime"
   ]
  },
  {
   "cell_type": "code",
   "execution_count": 2,
   "id": "45ccc53a-da21-473f-b6bf-f1a03dee3591",
   "metadata": {},
   "outputs": [],
   "source": [
    "villes = ['Lyon', 'Toulouse', 'Balma', 'Pau']\n",
    "ville = {\n",
    "    'nom': 'Toulouse',\n",
    "    'population': 500_000,\n",
    "    'code_postal': '31000'\n",
    "}\n",
    "dicton = 'Le blé semé le jour de Saint-Bruno devient noir.'\n",
    "data = np.random.normal(10.0, 2.5, 10_000)"
   ]
  },
  {
   "cell_type": "markdown",
   "id": "a781b508-eca2-4974-a868-f8a69307e6f1",
   "metadata": {},
   "source": [
    "## Str vs Repr"
   ]
  },
  {
   "cell_type": "code",
   "execution_count": 3,
   "id": "f762e4df-66b1-44ce-af88-6e96a99e4727",
   "metadata": {},
   "outputs": [
    {
     "name": "stdout",
     "output_type": "stream",
     "text": [
      "Le blé semé le jour de Saint-Bruno devient noir.\n"
     ]
    },
    {
     "data": {
      "text/plain": [
       "'Le blé semé le jour de Saint-Bruno devient noir.'"
      ]
     },
     "execution_count": 3,
     "metadata": {},
     "output_type": "execute_result"
    }
   ],
   "source": [
    "print(dicton)\n",
    "dicton"
   ]
  },
  {
   "cell_type": "code",
   "execution_count": 4,
   "id": "24d0d9e3-55ba-4c57-898a-b7c9175e3a7b",
   "metadata": {},
   "outputs": [
    {
     "name": "stdout",
     "output_type": "stream",
     "text": [
      "31000\n"
     ]
    },
    {
     "data": {
      "text/plain": [
       "'31000'"
      ]
     },
     "execution_count": 4,
     "metadata": {},
     "output_type": "execute_result"
    }
   ],
   "source": [
    "print(ville['code_postal']) # => str() / __str__\n",
    "ville['code_postal'] # => repr() / __repr__"
   ]
  },
  {
   "cell_type": "code",
   "execution_count": 5,
   "id": "d3d866f8-37bd-4a97-8359-cab44882dcbc",
   "metadata": {},
   "outputs": [
    {
     "name": "stdout",
     "output_type": "stream",
     "text": [
      "['Lyon', 'Toulouse', 'Balma', 'Pau']\n"
     ]
    },
    {
     "data": {
      "text/plain": [
       "['Lyon', 'Toulouse', 'Balma', 'Pau']"
      ]
     },
     "execution_count": 5,
     "metadata": {},
     "output_type": "execute_result"
    }
   ],
   "source": [
    "print(villes)\n",
    "villes"
   ]
  },
  {
   "cell_type": "code",
   "execution_count": 6,
   "id": "54116c87-bc88-4e7e-a6cf-e1e63ae906b9",
   "metadata": {},
   "outputs": [
    {
     "name": "stdout",
     "output_type": "stream",
     "text": [
      "[13.5245421   6.12420583  7.52374965 ... 15.24866156 10.29649111\n",
      " 10.26612042]\n"
     ]
    },
    {
     "data": {
      "text/plain": [
       "array([13.5245421 ,  6.12420583,  7.52374965, ..., 15.24866156,\n",
       "       10.29649111, 10.26612042], shape=(10000,))"
      ]
     },
     "execution_count": 6,
     "metadata": {},
     "output_type": "execute_result"
    }
   ],
   "source": [
    "print(data)\n",
    "data"
   ]
  },
  {
   "cell_type": "code",
   "execution_count": 7,
   "id": "ad925986-af8b-4eb1-b3d9-8a72aecaea7c",
   "metadata": {},
   "outputs": [
    {
     "name": "stdout",
     "output_type": "stream",
     "text": [
      "2025-10-07 17:29:03.230180\n"
     ]
    },
    {
     "data": {
      "text/plain": [
       "datetime.datetime(2025, 10, 7, 17, 29, 3, 230180)"
      ]
     },
     "execution_count": 7,
     "metadata": {},
     "output_type": "execute_result"
    }
   ],
   "source": [
    "dt = datetime.now()\n",
    "print(dt)\n",
    "dt"
   ]
  },
  {
   "cell_type": "markdown",
   "id": "b19ebaea-8b6a-4efb-ac48-b24375f54175",
   "metadata": {},
   "source": [
    "## Repr des DataFrames\n",
    "NB: ici le hook classique Python `__repr__` est mis en sourdine pour lui privilégier un hook jupyter `_repr_html_` "
   ]
  },
  {
   "cell_type": "code",
   "execution_count": 8,
   "id": "e82746ca-4efa-4ed9-aea3-ec854f19a4d2",
   "metadata": {},
   "outputs": [
    {
     "data": {
      "text/html": [
       "<div>\n",
       "<style scoped>\n",
       "    .dataframe tbody tr th:only-of-type {\n",
       "        vertical-align: middle;\n",
       "    }\n",
       "\n",
       "    .dataframe tbody tr th {\n",
       "        vertical-align: top;\n",
       "    }\n",
       "\n",
       "    .dataframe thead th {\n",
       "        text-align: right;\n",
       "    }\n",
       "</style>\n",
       "<table border=\"1\" class=\"dataframe\">\n",
       "  <thead>\n",
       "    <tr style=\"text-align: right;\">\n",
       "      <th></th>\n",
       "      <th>Nom</th>\n",
       "      <th>Population</th>\n",
       "      <th>Code_postal</th>\n",
       "    </tr>\n",
       "  </thead>\n",
       "  <tbody>\n",
       "    <tr>\n",
       "      <th>0</th>\n",
       "      <td>Lyon</td>\n",
       "      <td>500000</td>\n",
       "      <td>69000</td>\n",
       "    </tr>\n",
       "    <tr>\n",
       "      <th>1</th>\n",
       "      <td>Toulouse</td>\n",
       "      <td>500000</td>\n",
       "      <td>31000</td>\n",
       "    </tr>\n",
       "  </tbody>\n",
       "</table>\n",
       "</div>"
      ],
      "text/plain": [
       "        Nom  Population Code_postal\n",
       "0      Lyon      500000       69000\n",
       "1  Toulouse      500000       31000"
      ]
     },
     "execution_count": 8,
     "metadata": {},
     "output_type": "execute_result"
    }
   ],
   "source": [
    "df = pd.DataFrame(\n",
    "    [\n",
    "        ['Lyon', 500_000, '69000'],\n",
    "        ['Toulouse', 500_000, '31000'],\n",
    "    ],\n",
    "    columns=['Nom', 'Population', 'Code_postal']\n",
    ")\n",
    "df"
   ]
  },
  {
   "cell_type": "code",
   "execution_count": 9,
   "id": "69c1b9e3-cc34-4fa6-80b3-f816f9e2bf98",
   "metadata": {},
   "outputs": [
    {
     "data": {
      "text/plain": [
       "'        Nom  Population Code_postal\\n0      Lyon      500000       69000\\n1  Toulouse      500000       31000'"
      ]
     },
     "execution_count": 9,
     "metadata": {},
     "output_type": "execute_result"
    }
   ],
   "source": [
    "df.__repr__()"
   ]
  },
  {
   "cell_type": "code",
   "execution_count": 10,
   "id": "41047182-d79f-48c1-b2ea-f45f7d9515c8",
   "metadata": {
    "jupyter": {
     "source_hidden": true
    }
   },
   "outputs": [
    {
     "data": {
      "text/plain": [
       "'<div>\\n<style scoped>\\n    .dataframe tbody tr th:only-of-type {\\n        vertical-align: middle;\\n    }\\n\\n    .dataframe tbody tr th {\\n        vertical-align: top;\\n    }\\n\\n    .dataframe thead th {\\n        text-align: right;\\n    }\\n</style>\\n<table border=\"1\" class=\"dataframe\">\\n  <thead>\\n    <tr style=\"text-align: right;\">\\n      <th></th>\\n      <th>Nom</th>\\n      <th>Population</th>\\n      <th>Code_postal</th>\\n    </tr>\\n  </thead>\\n  <tbody>\\n    <tr>\\n      <th>0</th>\\n      <td>Lyon</td>\\n      <td>500000</td>\\n      <td>69000</td>\\n    </tr>\\n    <tr>\\n      <th>1</th>\\n      <td>Toulouse</td>\\n      <td>500000</td>\\n      <td>31000</td>\\n    </tr>\\n  </tbody>\\n</table>\\n</div>'"
      ]
     },
     "execution_count": 10,
     "metadata": {},
     "output_type": "execute_result"
    }
   ],
   "source": [
    "df._repr_html_()"
   ]
  },
  {
   "cell_type": "markdown",
   "id": "2ab9647b-4e7b-4503-96b3-767f5ed58f56",
   "metadata": {},
   "source": [
    "## Truth values"
   ]
  },
  {
   "cell_type": "code",
   "execution_count": 11,
   "id": "d543dd95-c079-4cba-8471-a46380dcff71",
   "metadata": {},
   "outputs": [],
   "source": [
    "assert not []\n",
    "assert not ''\n",
    "assert not None # None always False\n",
    "assert not False\n",
    "assert not 0"
   ]
  },
  {
   "cell_type": "code",
   "execution_count": 12,
   "id": "9d5c93ae-ac90-4f0b-aed0-7fbfbbcca8db",
   "metadata": {},
   "outputs": [],
   "source": [
    "assert [1, 2]\n",
    "assert 'texte non vide'\n",
    "assert True\n",
    "assert 1"
   ]
  },
  {
   "cell_type": "code",
   "execution_count": 13,
   "id": "a476fe57-1bbc-484c-9e9d-8acac555f420",
   "metadata": {},
   "outputs": [
    {
     "data": {
      "text/plain": [
       "NoneType"
      ]
     },
     "execution_count": 13,
     "metadata": {},
     "output_type": "execute_result"
    }
   ],
   "source": [
    "type(None)"
   ]
  },
  {
   "cell_type": "markdown",
   "id": "475d1b2c-dfa4-4c81-8fd6-c895d79dcc1f",
   "metadata": {},
   "source": [
    "## Egalité hétérogène"
   ]
  },
  {
   "cell_type": "code",
   "execution_count": 14,
   "id": "2bbb111b-a3ce-416f-a41a-a3c98d507364",
   "metadata": {},
   "outputs": [],
   "source": [
    "assert not 123 == 'a text'\n",
    "assert not 'a text' == 123"
   ]
  },
  {
   "cell_type": "code",
   "execution_count": 15,
   "id": "ac884fc3-dd4c-4e56-a80a-4e68a871cc6c",
   "metadata": {},
   "outputs": [
    {
     "data": {
      "text/plain": [
       "NotImplemented"
      ]
     },
     "execution_count": 15,
     "metadata": {},
     "output_type": "execute_result"
    }
   ],
   "source": [
    "x = 123\n",
    "x.__eq__('a text')"
   ]
  },
  {
   "cell_type": "code",
   "execution_count": 16,
   "id": "893acd6c-41c4-49f3-be2d-3d3edf2a20ee",
   "metadata": {},
   "outputs": [
    {
     "data": {
      "text/plain": [
       "NotImplemented"
      ]
     },
     "execution_count": 16,
     "metadata": {},
     "output_type": "execute_result"
    }
   ],
   "source": [
    "'a text'.__eq__(x)"
   ]
  },
  {
   "cell_type": "code",
   "execution_count": null,
   "id": "7a52145e-effc-4e9a-aa61-97a873bf74e4",
   "metadata": {},
   "outputs": [],
   "source": []
  },
  {
   "cell_type": "code",
   "execution_count": 17,
   "id": "c95ce20a-270a-4153-9763-3760e75833c2",
   "metadata": {},
   "outputs": [
    {
     "data": {
      "text/plain": [
       "array([1, 2, 3, 4])"
      ]
     },
     "execution_count": 17,
     "metadata": {},
     "output_type": "execute_result"
    }
   ],
   "source": [
    "t = np.array([1, 2, 3, 4])\n",
    "t"
   ]
  },
  {
   "cell_type": "code",
   "execution_count": 18,
   "id": "0b69b088-c8a2-42ae-aeeb-537640578b7a",
   "metadata": {},
   "outputs": [
    {
     "data": {
      "text/plain": [
       "array([ True,  True,  True,  True])"
      ]
     },
     "execution_count": 18,
     "metadata": {},
     "output_type": "execute_result"
    }
   ],
   "source": [
    "t == t"
   ]
  },
  {
   "cell_type": "code",
   "execution_count": 19,
   "id": "8bccf7fe-f2bb-4540-8880-9c219e9b2562",
   "metadata": {},
   "outputs": [
    {
     "data": {
      "text/plain": [
       "array([ True, False, False, False])"
      ]
     },
     "execution_count": 19,
     "metadata": {},
     "output_type": "execute_result"
    }
   ],
   "source": [
    "t == 1"
   ]
  },
  {
   "cell_type": "code",
   "execution_count": 20,
   "id": "10e89e31-5a0d-4339-80f1-3b8f42cd5369",
   "metadata": {},
   "outputs": [
    {
     "data": {
      "text/plain": [
       "array([ True, False, False, False])"
      ]
     },
     "execution_count": 20,
     "metadata": {},
     "output_type": "execute_result"
    }
   ],
   "source": [
    "1 == t"
   ]
  },
  {
   "cell_type": "code",
   "execution_count": 21,
   "id": "582458c5-375b-44de-b19d-61112cea3ce0",
   "metadata": {},
   "outputs": [
    {
     "data": {
      "text/plain": [
       "NotImplemented"
      ]
     },
     "execution_count": 21,
     "metadata": {},
     "output_type": "execute_result"
    }
   ],
   "source": [
    "x = 1\n",
    "x.__eq__(t)"
   ]
  },
  {
   "cell_type": "code",
   "execution_count": 22,
   "id": "9f9cfeff-343c-4e04-bdf1-3d503eb1dfae",
   "metadata": {},
   "outputs": [
    {
     "data": {
      "text/plain": [
       "array([ True, False, False, False])"
      ]
     },
     "execution_count": 22,
     "metadata": {},
     "output_type": "execute_result"
    }
   ],
   "source": [
    "t.__eq__(x)"
   ]
  },
  {
   "cell_type": "code",
   "execution_count": 23,
   "id": "d92904e4-58ba-4f0b-a5ab-f1111358948e",
   "metadata": {},
   "outputs": [
    {
     "data": {
      "text/plain": [
       "array([2, 4, 6, 8])"
      ]
     },
     "execution_count": 23,
     "metadata": {},
     "output_type": "execute_result"
    }
   ],
   "source": [
    "t + t"
   ]
  },
  {
   "cell_type": "code",
   "execution_count": 24,
   "id": "8935a8ed-b3d0-4160-99ec-04edc670cfc2",
   "metadata": {},
   "outputs": [
    {
     "data": {
      "text/plain": [
       "array([ 0, -1, -2, -3])"
      ]
     },
     "execution_count": 24,
     "metadata": {},
     "output_type": "execute_result"
    }
   ],
   "source": [
    "1 - t # __rsub__"
   ]
  },
  {
   "cell_type": "code",
   "execution_count": 25,
   "id": "cdb0edd2-5b3d-4ed4-89e7-d247272f0f0d",
   "metadata": {},
   "outputs": [],
   "source": [
    "t += 2 # __iadd"
   ]
  },
  {
   "cell_type": "code",
   "execution_count": 26,
   "id": "4ebdd926-fa6a-4027-9709-d80fea9715a9",
   "metadata": {},
   "outputs": [
    {
     "data": {
      "text/plain": [
       "array([3, 4, 5, 6])"
      ]
     },
     "execution_count": 26,
     "metadata": {},
     "output_type": "execute_result"
    }
   ],
   "source": [
    "t"
   ]
  },
  {
   "cell_type": "code",
   "execution_count": 27,
   "id": "48af7efa-bac0-43a9-9ff2-2feb0b43f099",
   "metadata": {},
   "outputs": [
    {
     "data": {
      "text/plain": [
       "(4,)"
      ]
     },
     "execution_count": 27,
     "metadata": {},
     "output_type": "execute_result"
    }
   ],
   "source": [
    "t.shape"
   ]
  },
  {
   "cell_type": "code",
   "execution_count": 28,
   "id": "34106a62-8da2-49ec-bfbd-2e48b6e51994",
   "metadata": {},
   "outputs": [
    {
     "data": {
      "text/plain": [
       "array([[3, 4],\n",
       "       [5, 6]])"
      ]
     },
     "execution_count": 28,
     "metadata": {},
     "output_type": "execute_result"
    }
   ],
   "source": [
    "t.shape = (2,2)\n",
    "t"
   ]
  },
  {
   "cell_type": "code",
   "execution_count": 29,
   "id": "2227897b-c889-46ac-bcdc-36b93dafeb54",
   "metadata": {},
   "outputs": [],
   "source": [
    "# ValueError: cannot reshape array of size 4 into shape (2,3)\n",
    "# t.shape = (2,3)"
   ]
  },
  {
   "cell_type": "code",
   "execution_count": 30,
   "id": "5e394dd5-6b41-408a-a2b5-0729090caf66",
   "metadata": {},
   "outputs": [],
   "source": [
    "# del t.shape"
   ]
  },
  {
   "cell_type": "markdown",
   "id": "8f5cbf4c-c836-4711-be0b-fe8dd74429e6",
   "metadata": {},
   "source": [
    "## Operations inplace\n",
    "- si implementée (`__iadd__`, `__isub__`, ...) => optimisation mémoire\n",
    "  Exemple: ndarray, list\n",
    "- sinon il suffit d'avoir l'operation classique (pas inplace) et Python décompose l'appel\n",
    "     ```\n",
    "     a += b   =>  a = a + b\n",
    "     ```\n",
    "  Exemple: str, tuple"
   ]
  },
  {
   "cell_type": "code",
   "execution_count": 31,
   "id": "a55ebc5e-46c8-48f7-acb7-bf65ec30885f",
   "metadata": {},
   "outputs": [
    {
     "data": {
      "text/plain": [
       "['Lyon', 'Toulouse', 'Balma', 'Pau', 'Marseille', 'Paris']"
      ]
     },
     "execution_count": 31,
     "metadata": {},
     "output_type": "execute_result"
    }
   ],
   "source": [
    "ref = villes\n",
    "villes += ['Marseille', 'Paris']\n",
    "villes"
   ]
  },
  {
   "cell_type": "code",
   "execution_count": 32,
   "id": "fab1fca8-9bef-4eb0-961a-4ca80cb920a1",
   "metadata": {},
   "outputs": [],
   "source": [
    "assert ref is villes"
   ]
  },
  {
   "cell_type": "code",
   "execution_count": 33,
   "id": "a8c0c805-4dfb-4fc1-8865-247a21f1b918",
   "metadata": {},
   "outputs": [
    {
     "data": {
      "text/plain": [
       "(12, 3, 7, 12)"
      ]
     },
     "execution_count": 33,
     "metadata": {},
     "output_type": "execute_result"
    }
   ],
   "source": [
    "shape = (12, 3)\n",
    "ref = shape\n",
    "shape += (7, 12)\n",
    "shape"
   ]
  },
  {
   "cell_type": "code",
   "execution_count": 34,
   "id": "eb042b37-18c0-49c2-be4c-04545cbfb3ad",
   "metadata": {},
   "outputs": [],
   "source": [
    "assert shape is not ref"
   ]
  },
  {
   "cell_type": "code",
   "execution_count": 35,
   "id": "2f2a81a7-a36f-456d-a026-035762d0b10b",
   "metadata": {},
   "outputs": [
    {
     "data": {
      "text/plain": [
       "[7, 4, 3]"
      ]
     },
     "execution_count": 35,
     "metadata": {},
     "output_type": "execute_result"
    }
   ],
   "source": [
    "sorted([7, 3, 4],  reverse=True)"
   ]
  },
  {
   "cell_type": "markdown",
   "id": "ab34a998-3a06-4d08-a27b-13784215a263",
   "metadata": {},
   "source": [
    "## Class method"
   ]
  },
  {
   "cell_type": "code",
   "execution_count": 36,
   "id": "a06b8c11-298c-42c6-be92-f3fce72418bc",
   "metadata": {},
   "outputs": [
    {
     "data": {
      "text/plain": [
       "np.int64(18)"
      ]
     },
     "execution_count": 36,
     "metadata": {},
     "output_type": "execute_result"
    }
   ],
   "source": [
    "# object method\n",
    "t.sum()"
   ]
  },
  {
   "cell_type": "code",
   "execution_count": 37,
   "id": "6f386e5d-7407-4143-ac06-dda217316fd5",
   "metadata": {},
   "outputs": [
    {
     "data": {
      "text/plain": [
       "datetime.datetime(2025, 10, 7, 17, 29, 3, 492778)"
      ]
     },
     "execution_count": 37,
     "metadata": {},
     "output_type": "execute_result"
    }
   ],
   "source": [
    "# class method\n",
    "dt = datetime.now()\n",
    "dt"
   ]
  },
  {
   "cell_type": "code",
   "execution_count": 38,
   "id": "b549ebcf-6f6b-41f0-ae17-e7d1d29e385d",
   "metadata": {},
   "outputs": [
    {
     "data": {
      "text/plain": [
       "datetime.datetime(2025, 10, 7, 15, 31, 41, 673952)"
      ]
     },
     "execution_count": 38,
     "metadata": {},
     "output_type": "execute_result"
    }
   ],
   "source": [
    "# constructor (__init__)\n",
    "datetime(2025, 10, 7, 15, 31, 41, 673952)"
   ]
  },
  {
   "cell_type": "code",
   "execution_count": 39,
   "id": "bf4b3981-0197-4d94-af94-697427bcaf90",
   "metadata": {},
   "outputs": [
    {
     "data": {
      "text/plain": [
       "'07/10/2025'"
      ]
     },
     "execution_count": 39,
     "metadata": {},
     "output_type": "execute_result"
    }
   ],
   "source": [
    "# object method\n",
    "dt.strftime('%d/%m/%Y')"
   ]
  },
  {
   "cell_type": "code",
   "execution_count": 40,
   "id": "eb2ab7d4-7bda-47f7-8f2a-051f27e848ad",
   "metadata": {},
   "outputs": [
    {
     "data": {
      "text/plain": [
       "datetime.datetime(2025, 10, 25, 11, 30)"
      ]
     },
     "execution_count": 40,
     "metadata": {},
     "output_type": "execute_result"
    }
   ],
   "source": [
    "# class method\n",
    "datetime.fromisoformat('2025-10-25 11:30')"
   ]
  }
 ],
 "metadata": {
  "kernelspec": {
   "display_name": "Python 3 (ipykernel)",
   "language": "python",
   "name": "python3"
  },
  "language_info": {
   "codemirror_mode": {
    "name": "ipython",
    "version": 3
   },
   "file_extension": ".py",
   "mimetype": "text/x-python",
   "name": "python",
   "nbconvert_exporter": "python",
   "pygments_lexer": "ipython3",
   "version": "3.13.7"
  }
 },
 "nbformat": 4,
 "nbformat_minor": 5
}
