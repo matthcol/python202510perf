{
 "cells": [
  {
   "cell_type": "markdown",
   "id": "83eed0a6-b06c-4516-bd4d-9be5929d6bbe",
   "metadata": {},
   "source": [
    "# Builtin and operators\n",
    "Quelques demos d'implementation de builtins (`str`, `repr`, `bool`) et opérateurs (`==`, `+`, `-`)\n",
    "sur des types de Python et de numpy"
   ]
  },
  {
   "cell_type": "code",
   "execution_count": 1,
   "id": "852871f9-1334-4969-85a1-78231c6fd7c2",
   "metadata": {},
   "outputs": [],
   "source": [
    "import numpy as np\n",
    "import pandas as pd\n",
    "from datetime import datetime"
   ]
  },
  {
   "cell_type": "code",
   "execution_count": 2,
   "id": "45ccc53a-da21-473f-b6bf-f1a03dee3591",
   "metadata": {},
   "outputs": [],
   "source": [
    "villes = ['Lyon', 'Toulouse', 'Balma', 'Pau']\n",
    "ville = {\n",
    "    'nom': 'Toulouse',\n",
    "    'population': 500_000,\n",
    "    'code_postal': '31000'\n",
    "}\n",
    "dicton = 'Le blé semé le jour de Saint-Bruno devient noir.'\n",
    "data = np.random.normal(10.0, 2.5, 10_000)"
   ]
  },
  {
   "cell_type": "markdown",
   "id": "a781b508-eca2-4974-a868-f8a69307e6f1",
   "metadata": {},
   "source": [
    "## Str vs Repr"
   ]
  },
  {
   "cell_type": "code",
   "execution_count": 3,
   "id": "f762e4df-66b1-44ce-af88-6e96a99e4727",
   "metadata": {},
   "outputs": [
    {
     "name": "stdout",
     "output_type": "stream",
     "text": [
      "Le blé semé le jour de Saint-Bruno devient noir.\n"
     ]
    },
    {
     "data": {
      "text/plain": [
       "'Le blé semé le jour de Saint-Bruno devient noir.'"
      ]
     },
     "execution_count": 3,
     "metadata": {},
     "output_type": "execute_result"
    }
   ],
   "source": [
    "print(dicton)\n",
    "dicton"
   ]
  },
  {
   "cell_type": "code",
   "execution_count": 4,
   "id": "24d0d9e3-55ba-4c57-898a-b7c9175e3a7b",
   "metadata": {},
   "outputs": [
    {
     "name": "stdout",
     "output_type": "stream",
     "text": [
      "31000\n"
     ]
    },
    {
     "data": {
      "text/plain": [
       "'31000'"
      ]
     },
     "execution_count": 4,
     "metadata": {},
     "output_type": "execute_result"
    }
   ],
   "source": [
    "print(ville['code_postal']) # => str() / __str__\n",
    "ville['code_postal'] # => repr() / __repr__"
   ]
  },
  {
   "cell_type": "code",
   "execution_count": 5,
   "id": "d3d866f8-37bd-4a97-8359-cab44882dcbc",
   "metadata": {},
   "outputs": [
    {
     "name": "stdout",
     "output_type": "stream",
     "text": [
      "['Lyon', 'Toulouse', 'Balma', 'Pau']\n"
     ]
    },
    {
     "data": {
      "text/plain": [
       "['Lyon', 'Toulouse', 'Balma', 'Pau']"
      ]
     },
     "execution_count": 5,
     "metadata": {},
     "output_type": "execute_result"
    }
   ],
   "source": [
    "print(villes)\n",
    "villes"
   ]
  },
  {
   "cell_type": "code",
   "execution_count": 6,
   "id": "54116c87-bc88-4e7e-a6cf-e1e63ae906b9",
   "metadata": {},
   "outputs": [
    {
     "name": "stdout",
     "output_type": "stream",
     "text": [
      "[ 8.05462601 11.00147452 16.48598166 ... 13.70103592 11.87044202\n",
      "  8.38700254]\n"
     ]
    },
    {
     "data": {
      "text/plain": [
       "array([ 8.05462601, 11.00147452, 16.48598166, ..., 13.70103592,\n",
       "       11.87044202,  8.38700254], shape=(10000,))"
      ]
     },
     "execution_count": 6,
     "metadata": {},
     "output_type": "execute_result"
    }
   ],
   "source": [
    "print(data)\n",
    "data"
   ]
  },
  {
   "cell_type": "code",
   "execution_count": 7,
   "id": "ad925986-af8b-4eb1-b3d9-8a72aecaea7c",
   "metadata": {},
   "outputs": [
    {
     "name": "stdout",
     "output_type": "stream",
     "text": [
      "2025-10-06 17:53:14.852266\n"
     ]
    },
    {
     "data": {
      "text/plain": [
       "datetime.datetime(2025, 10, 6, 17, 53, 14, 852266)"
      ]
     },
     "execution_count": 7,
     "metadata": {},
     "output_type": "execute_result"
    }
   ],
   "source": [
    "dt = datetime.now()\n",
    "print(dt)\n",
    "dt"
   ]
  },
  {
   "cell_type": "markdown",
   "id": "b19ebaea-8b6a-4efb-ac48-b24375f54175",
   "metadata": {},
   "source": [
    "## Repr des DataFrames\n",
    "NB: ici le hook classique Python `__repr__` est mis en sourdine pour lui privilégier un hook jupyter `_repr_html_` "
   ]
  },
  {
   "cell_type": "code",
   "execution_count": 8,
   "id": "e82746ca-4efa-4ed9-aea3-ec854f19a4d2",
   "metadata": {},
   "outputs": [
    {
     "data": {
      "text/html": [
       "<div>\n",
       "<style scoped>\n",
       "    .dataframe tbody tr th:only-of-type {\n",
       "        vertical-align: middle;\n",
       "    }\n",
       "\n",
       "    .dataframe tbody tr th {\n",
       "        vertical-align: top;\n",
       "    }\n",
       "\n",
       "    .dataframe thead th {\n",
       "        text-align: right;\n",
       "    }\n",
       "</style>\n",
       "<table border=\"1\" class=\"dataframe\">\n",
       "  <thead>\n",
       "    <tr style=\"text-align: right;\">\n",
       "      <th></th>\n",
       "      <th>Nom</th>\n",
       "      <th>Population</th>\n",
       "      <th>Code_postal</th>\n",
       "    </tr>\n",
       "  </thead>\n",
       "  <tbody>\n",
       "    <tr>\n",
       "      <th>0</th>\n",
       "      <td>Lyon</td>\n",
       "      <td>500000</td>\n",
       "      <td>69000</td>\n",
       "    </tr>\n",
       "    <tr>\n",
       "      <th>1</th>\n",
       "      <td>Toulouse</td>\n",
       "      <td>500000</td>\n",
       "      <td>31000</td>\n",
       "    </tr>\n",
       "  </tbody>\n",
       "</table>\n",
       "</div>"
      ],
      "text/plain": [
       "        Nom  Population Code_postal\n",
       "0      Lyon      500000       69000\n",
       "1  Toulouse      500000       31000"
      ]
     },
     "execution_count": 8,
     "metadata": {},
     "output_type": "execute_result"
    }
   ],
   "source": [
    "df = pd.DataFrame(\n",
    "    [\n",
    "        ['Lyon', 500_000, '69000'],\n",
    "        ['Toulouse', 500_000, '31000'],\n",
    "    ],\n",
    "    columns=['Nom', 'Population', 'Code_postal']\n",
    ")\n",
    "df"
   ]
  },
  {
   "cell_type": "code",
   "execution_count": 9,
   "id": "69c1b9e3-cc34-4fa6-80b3-f816f9e2bf98",
   "metadata": {},
   "outputs": [
    {
     "data": {
      "text/plain": [
       "'        Nom  Population Code_postal\\n0      Lyon      500000       69000\\n1  Toulouse      500000       31000'"
      ]
     },
     "execution_count": 9,
     "metadata": {},
     "output_type": "execute_result"
    }
   ],
   "source": [
    "df.__repr__()"
   ]
  },
  {
   "cell_type": "code",
   "execution_count": 10,
   "id": "41047182-d79f-48c1-b2ea-f45f7d9515c8",
   "metadata": {
    "jupyter": {
     "source_hidden": true
    }
   },
   "outputs": [
    {
     "data": {
      "text/plain": [
       "'<div>\\n<style scoped>\\n    .dataframe tbody tr th:only-of-type {\\n        vertical-align: middle;\\n    }\\n\\n    .dataframe tbody tr th {\\n        vertical-align: top;\\n    }\\n\\n    .dataframe thead th {\\n        text-align: right;\\n    }\\n</style>\\n<table border=\"1\" class=\"dataframe\">\\n  <thead>\\n    <tr style=\"text-align: right;\">\\n      <th></th>\\n      <th>Nom</th>\\n      <th>Population</th>\\n      <th>Code_postal</th>\\n    </tr>\\n  </thead>\\n  <tbody>\\n    <tr>\\n      <th>0</th>\\n      <td>Lyon</td>\\n      <td>500000</td>\\n      <td>69000</td>\\n    </tr>\\n    <tr>\\n      <th>1</th>\\n      <td>Toulouse</td>\\n      <td>500000</td>\\n      <td>31000</td>\\n    </tr>\\n  </tbody>\\n</table>\\n</div>'"
      ]
     },
     "execution_count": 10,
     "metadata": {},
     "output_type": "execute_result"
    }
   ],
   "source": [
    "df._repr_html_()"
   ]
  },
  {
   "cell_type": "markdown",
   "id": "2ab9647b-4e7b-4503-96b3-767f5ed58f56",
   "metadata": {},
   "source": [
    "## Truth values"
   ]
  },
  {
   "cell_type": "code",
   "execution_count": 11,
   "id": "d543dd95-c079-4cba-8471-a46380dcff71",
   "metadata": {},
   "outputs": [],
   "source": [
    "assert not []\n",
    "assert not ''\n",
    "assert not None # None always False\n",
    "assert not False\n",
    "assert not 0"
   ]
  },
  {
   "cell_type": "code",
   "execution_count": 12,
   "id": "9d5c93ae-ac90-4f0b-aed0-7fbfbbcca8db",
   "metadata": {},
   "outputs": [],
   "source": [
    "assert [1, 2]\n",
    "assert 'texte non vide'\n",
    "assert True\n",
    "assert 1"
   ]
  },
  {
   "cell_type": "code",
   "execution_count": 13,
   "id": "a476fe57-1bbc-484c-9e9d-8acac555f420",
   "metadata": {},
   "outputs": [
    {
     "data": {
      "text/plain": [
       "NoneType"
      ]
     },
     "execution_count": 13,
     "metadata": {},
     "output_type": "execute_result"
    }
   ],
   "source": [
    "type(None)"
   ]
  },
  {
   "cell_type": "markdown",
   "id": "475d1b2c-dfa4-4c81-8fd6-c895d79dcc1f",
   "metadata": {},
   "source": [
    "## Egalité hétérogène"
   ]
  },
  {
   "cell_type": "code",
   "execution_count": 14,
   "id": "2bbb111b-a3ce-416f-a41a-a3c98d507364",
   "metadata": {},
   "outputs": [],
   "source": [
    "assert not 123 == 'a text'\n",
    "assert not 'a text' == 123"
   ]
  },
  {
   "cell_type": "code",
   "execution_count": 15,
   "id": "ac884fc3-dd4c-4e56-a80a-4e68a871cc6c",
   "metadata": {},
   "outputs": [
    {
     "data": {
      "text/plain": [
       "NotImplemented"
      ]
     },
     "execution_count": 15,
     "metadata": {},
     "output_type": "execute_result"
    }
   ],
   "source": [
    "x = 123\n",
    "x.__eq__('a text')"
   ]
  },
  {
   "cell_type": "code",
   "execution_count": 16,
   "id": "893acd6c-41c4-49f3-be2d-3d3edf2a20ee",
   "metadata": {},
   "outputs": [
    {
     "data": {
      "text/plain": [
       "NotImplemented"
      ]
     },
     "execution_count": 16,
     "metadata": {},
     "output_type": "execute_result"
    }
   ],
   "source": [
    "'a text'.__eq__(x)"
   ]
  },
  {
   "cell_type": "code",
   "execution_count": null,
   "id": "7a52145e-effc-4e9a-aa61-97a873bf74e4",
   "metadata": {},
   "outputs": [],
   "source": []
  },
  {
   "cell_type": "code",
   "execution_count": 17,
   "id": "c95ce20a-270a-4153-9763-3760e75833c2",
   "metadata": {},
   "outputs": [
    {
     "data": {
      "text/plain": [
       "array([1, 2, 3])"
      ]
     },
     "execution_count": 17,
     "metadata": {},
     "output_type": "execute_result"
    }
   ],
   "source": [
    "t = np.array([1, 2, 3])\n",
    "t"
   ]
  },
  {
   "cell_type": "code",
   "execution_count": 18,
   "id": "0b69b088-c8a2-42ae-aeeb-537640578b7a",
   "metadata": {},
   "outputs": [
    {
     "data": {
      "text/plain": [
       "array([ True,  True,  True])"
      ]
     },
     "execution_count": 18,
     "metadata": {},
     "output_type": "execute_result"
    }
   ],
   "source": [
    "t == t"
   ]
  },
  {
   "cell_type": "code",
   "execution_count": 19,
   "id": "8bccf7fe-f2bb-4540-8880-9c219e9b2562",
   "metadata": {},
   "outputs": [
    {
     "data": {
      "text/plain": [
       "array([ True, False, False])"
      ]
     },
     "execution_count": 19,
     "metadata": {},
     "output_type": "execute_result"
    }
   ],
   "source": [
    "t == 1"
   ]
  },
  {
   "cell_type": "code",
   "execution_count": 20,
   "id": "10e89e31-5a0d-4339-80f1-3b8f42cd5369",
   "metadata": {},
   "outputs": [
    {
     "data": {
      "text/plain": [
       "array([ True, False, False])"
      ]
     },
     "execution_count": 20,
     "metadata": {},
     "output_type": "execute_result"
    }
   ],
   "source": [
    "1 == t"
   ]
  },
  {
   "cell_type": "code",
   "execution_count": 21,
   "id": "582458c5-375b-44de-b19d-61112cea3ce0",
   "metadata": {},
   "outputs": [
    {
     "data": {
      "text/plain": [
       "NotImplemented"
      ]
     },
     "execution_count": 21,
     "metadata": {},
     "output_type": "execute_result"
    }
   ],
   "source": [
    "x = 1\n",
    "x.__eq__(t)"
   ]
  },
  {
   "cell_type": "code",
   "execution_count": 22,
   "id": "9f9cfeff-343c-4e04-bdf1-3d503eb1dfae",
   "metadata": {},
   "outputs": [
    {
     "data": {
      "text/plain": [
       "array([ True, False, False])"
      ]
     },
     "execution_count": 22,
     "metadata": {},
     "output_type": "execute_result"
    }
   ],
   "source": [
    "t.__eq__(x)"
   ]
  },
  {
   "cell_type": "code",
   "execution_count": 23,
   "id": "d92904e4-58ba-4f0b-a5ab-f1111358948e",
   "metadata": {},
   "outputs": [
    {
     "data": {
      "text/plain": [
       "array([2, 4, 6])"
      ]
     },
     "execution_count": 23,
     "metadata": {},
     "output_type": "execute_result"
    }
   ],
   "source": [
    "t + t"
   ]
  },
  {
   "cell_type": "code",
   "execution_count": 24,
   "id": "8935a8ed-b3d0-4160-99ec-04edc670cfc2",
   "metadata": {},
   "outputs": [
    {
     "data": {
      "text/plain": [
       "array([ 0, -1, -2])"
      ]
     },
     "execution_count": 24,
     "metadata": {},
     "output_type": "execute_result"
    }
   ],
   "source": [
    "1 - t # __rsub__"
   ]
  },
  {
   "cell_type": "code",
   "execution_count": 25,
   "id": "cdb0edd2-5b3d-4ed4-89e7-d247272f0f0d",
   "metadata": {},
   "outputs": [],
   "source": [
    "t += 2 # __iadd"
   ]
  },
  {
   "cell_type": "code",
   "execution_count": 26,
   "id": "4ebdd926-fa6a-4027-9709-d80fea9715a9",
   "metadata": {},
   "outputs": [
    {
     "data": {
      "text/plain": [
       "array([3, 4, 5])"
      ]
     },
     "execution_count": 26,
     "metadata": {},
     "output_type": "execute_result"
    }
   ],
   "source": [
    "t"
   ]
  }
 ],
 "metadata": {
  "kernelspec": {
   "display_name": "Python 3 (ipykernel)",
   "language": "python",
   "name": "python3"
  },
  "language_info": {
   "codemirror_mode": {
    "name": "ipython",
    "version": 3
   },
   "file_extension": ".py",
   "mimetype": "text/x-python",
   "name": "python",
   "nbconvert_exporter": "python",
   "pygments_lexer": "ipython3",
   "version": "3.13.7"
  }
 },
 "nbformat": 4,
 "nbformat_minor": 5
}
