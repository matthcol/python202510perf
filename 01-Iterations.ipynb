{
 "cells": [
  {
   "cell_type": "markdown",
   "id": "0c7468da-3ba3-4ba7-b425-7fc1ac60741d",
   "metadata": {},
   "source": [
    "# Iteration mechanisms"
   ]
  },
  {
   "cell_type": "code",
   "execution_count": 1,
   "id": "005cf161-0dd5-4735-a5fa-92e938c26ff7",
   "metadata": {},
   "outputs": [],
   "source": [
    "import numpy as np\n",
    "from collections.abc import Iterable, Iterator"
   ]
  },
  {
   "cell_type": "markdown",
   "id": "983e9ec3-1983-4be2-b74c-24b18fd196a5",
   "metadata": {},
   "source": [
    "## Pattern: Iterable et Iterator\n",
    "Comme beaucoup de langages, Python définit le pattern Iterable / Iterator mais à sa façon."
   ]
  },
  {
   "cell_type": "markdown",
   "id": "658695ba-812e-456b-8a0a-10f2c1090646",
   "metadata": {},
   "source": [
    "### exemples de données builtin iterables"
   ]
  },
  {
   "cell_type": "code",
   "execution_count": 2,
   "id": "ef74d547-c2ad-487d-899b-1e742fddc3b4",
   "metadata": {},
   "outputs": [],
   "source": [
    "villes = ['Lyon', 'Toulouse', 'Balma', 'Pau']\n",
    "ville = {\n",
    "    'nom': 'Toulouse',\n",
    "    'population': 500_000,\n",
    "    'code_postal': '31000'\n",
    "}\n",
    "dicton = 'Le blé semé le jour de Saint-Bruno devient noir.'"
   ]
  },
  {
   "cell_type": "code",
   "execution_count": 3,
   "id": "e2c2159b-260d-4cf7-9b62-890ecdba3497",
   "metadata": {},
   "outputs": [
    {
     "data": {
      "text/plain": [
       "<method-wrapper '__iter__' of str object at 0x0000024C4C129300>"
      ]
     },
     "execution_count": 3,
     "metadata": {},
     "output_type": "execute_result"
    }
   ],
   "source": [
    "villes.__iter__\n",
    "ville.__iter__\n",
    "dicton.__iter__"
   ]
  },
  {
   "cell_type": "markdown",
   "id": "64b3a76a-a38b-4db5-9ac8-6dfb9f99bd78",
   "metadata": {},
   "source": [
    "### Iterator détaillé en pas à pas"
   ]
  },
  {
   "cell_type": "code",
   "execution_count": 4,
   "id": "bba2c9ca-9a8f-4e35-a387-3d922579be7b",
   "metadata": {},
   "outputs": [
    {
     "data": {
      "text/plain": [
       "<list_iterator at 0x24c4c34fa90>"
      ]
     },
     "execution_count": 4,
     "metadata": {},
     "output_type": "execute_result"
    }
   ],
   "source": [
    "it = iter(villes)\n",
    "it"
   ]
  },
  {
   "cell_type": "code",
   "execution_count": 5,
   "id": "b03a4dfc-0bf7-46f4-964b-fe05adbcd547",
   "metadata": {},
   "outputs": [
    {
     "data": {
      "text/plain": [
       "<method-wrapper '__next__' of list_iterator object at 0x0000024C4C34FA90>"
      ]
     },
     "execution_count": 5,
     "metadata": {},
     "output_type": "execute_result"
    }
   ],
   "source": [
    "it.__next__"
   ]
  },
  {
   "cell_type": "code",
   "execution_count": 6,
   "id": "1bde577d-e08b-4580-a877-58a0880bac5d",
   "metadata": {},
   "outputs": [
    {
     "data": {
      "text/plain": [
       "'Lyon'"
      ]
     },
     "execution_count": 6,
     "metadata": {},
     "output_type": "execute_result"
    }
   ],
   "source": [
    "# execute several times this cell\n",
    "# iteration ends with exception: StopIteration\n",
    "next(it)"
   ]
  },
  {
   "cell_type": "markdown",
   "id": "06d476e2-d569-462b-b613-d5321c82190b",
   "metadata": {},
   "source": [
    "### Itération par boucle for"
   ]
  },
  {
   "cell_type": "code",
   "execution_count": 7,
   "id": "cb5ee8f5-0eba-4412-8a8d-9676f27d53b0",
   "metadata": {},
   "outputs": [
    {
     "name": "stdout",
     "output_type": "stream",
     "text": [
      "Lyon\n",
      "Toulouse\n",
      "Balma\n",
      "Pau\n"
     ]
    }
   ],
   "source": [
    "for v in villes:\n",
    "    print(v)"
   ]
  },
  {
   "cell_type": "code",
   "execution_count": 8,
   "id": "644c1d64-f4da-47ad-a359-2bcb54d767b7",
   "metadata": {},
   "outputs": [],
   "source": [
    "# => TypeError: 'int' object is not iterable\n",
    "# nb = 123\n",
    "# for digit in nb:\n",
    "#     print(digit)"
   ]
  },
  {
   "cell_type": "code",
   "execution_count": 9,
   "id": "76691c8a-9026-4edf-ac75-0eb495340e6a",
   "metadata": {},
   "outputs": [],
   "source": [
    "# https://docs.python.org/3/library/collections.abc.html\n",
    "# définit les classes abstraites: Iterable, Sized, Sequence, Collection\n",
    "\n",
    "assert isinstance(villes, list)\n",
    "assert isinstance(villes, Iterable)"
   ]
  },
  {
   "cell_type": "markdown",
   "id": "a44742e7-3f01-4a05-8ba6-70e2dd422f7d",
   "metadata": {},
   "source": [
    "### Exemple du tableau numpy"
   ]
  },
  {
   "cell_type": "code",
   "execution_count": 10,
   "id": "5ff4f493-c788-4ada-86ff-decdcb5efa18",
   "metadata": {},
   "outputs": [
    {
     "data": {
      "text/plain": [
       "array([11.59517062,  6.31469485,  5.34240645, ..., 10.10449915,\n",
       "        9.58516164, 10.31155724], shape=(10000,))"
      ]
     },
     "execution_count": 10,
     "metadata": {},
     "output_type": "execute_result"
    }
   ],
   "source": [
    "data = np.random.normal(10.0, 2.5, 10_000)\n",
    "data"
   ]
  },
  {
   "cell_type": "code",
   "execution_count": 11,
   "id": "def5c032-c324-43d1-958f-3a8a6fbbb71b",
   "metadata": {},
   "outputs": [
    {
     "data": {
      "text/plain": [
       "numpy.ndarray"
      ]
     },
     "execution_count": 11,
     "metadata": {},
     "output_type": "execute_result"
    }
   ],
   "source": [
    "type(data)"
   ]
  },
  {
   "cell_type": "code",
   "execution_count": 12,
   "id": "1b509263-65ce-416c-9898-167a9209d1de",
   "metadata": {},
   "outputs": [],
   "source": [
    "assert isinstance(data, Iterable)"
   ]
  },
  {
   "cell_type": "markdown",
   "id": "221c217e-568c-463f-af84-1e72e2a0479b",
   "metadata": {},
   "source": [
    "### Objet Dummy iterable à l'ancienne\n",
    "Pour être plus propre, il faudrait hériter\n",
    "de la class abstrait Iterable, mais concrètement les mécanismes d'itérations de python ne demande que le hook `__iter__`"
   ]
  },
  {
   "cell_type": "code",
   "execution_count": 13,
   "id": "afdd933b-b16a-4af8-9726-26247e8a03a9",
   "metadata": {},
   "outputs": [],
   "source": [
    "class DummyIterable:\n",
    "\n",
    "    def __iter__(self):\n",
    "        return iter([])"
   ]
  },
  {
   "cell_type": "code",
   "execution_count": 14,
   "id": "5dcc2208-486d-4a80-949c-b6e54b793300",
   "metadata": {},
   "outputs": [],
   "source": [
    "d = DummyIterable()\n",
    "for v in d:\n",
    "    print('never')"
   ]
  },
  {
   "cell_type": "markdown",
   "id": "517029ec-5412-42c4-9a77-62d1af69e513",
   "metadata": {},
   "source": [
    "## Specifité python du pattern Iterator-Iterable\n",
    "En Python, tout iterateur est iterable (idempotence du pattern)\n",
    "en se renvoyant lui même.\n",
    "\n",
    "Cela permet à plein de fonction python de se contenter de déclarer\n",
    "accepter un iterable (docstring, type hint) et d'accepter en paramètre réel aussi\n",
    "bien un iterable qu'un iterator."
   ]
  },
  {
   "cell_type": "code",
   "execution_count": 15,
   "id": "9998313e-f7a5-4bb1-9a00-be9e5b8e0c28",
   "metadata": {},
   "outputs": [
    {
     "name": "stdout",
     "output_type": "stream",
     "text": [
      "Début 1er parcours\n",
      "L\n",
      "e\n",
      " \n",
      "b\n",
      "l\n",
      "é\n",
      " \n",
      "s\n",
      "e\n",
      "m\n",
      "é\n",
      " \n",
      "l\n",
      "e\n",
      " \n",
      "j\n",
      "o\n",
      "u\n",
      "r\n",
      " \n",
      "d\n",
      "e\n",
      " \n",
      "S\n",
      "a\n",
      "i\n",
      "n\n",
      "t\n",
      "-\n",
      "B\n",
      "r\n",
      "u\n",
      "n\n",
      "o\n",
      " \n",
      "d\n",
      "e\n",
      "v\n",
      "i\n",
      "e\n",
      "n\n",
      "t\n",
      " \n",
      "n\n",
      "o\n",
      "i\n",
      "r\n",
      ".\n",
      "Fin 1er parcours\n",
      "\n",
      "Début 2e parcours\n",
      "Fin 2e parcours\n"
     ]
    }
   ],
   "source": [
    "it = iter(dicton)\n",
    "it2 = iter(it)\n",
    "assert it is it2 # idempotence : l'iterateur d'un iterateur est lui même\n",
    "assert isinstance(it, Iterator)\n",
    "assert isinstance(it, Iterable)\n",
    "\n",
    "print('Début 1er parcours')\n",
    "for l in it:\n",
    "    print(l)\n",
    "print('Fin 1er parcours')\n",
    "print()\n",
    "print('Début 2e parcours')\n",
    "for l in it2: # empty iteration (it2 est déjà consommé via it)\n",
    "    print(l)\n",
    "print('Fin 2e parcours')"
   ]
  },
  {
   "cell_type": "markdown",
   "id": "67684bd6-bc51-4eac-a9c5-568af2cb18e7",
   "metadata": {},
   "source": [
    "## Iteration via une fonction builtin\n",
    "Beaucoup de fonctions builtins acceptent des objets `iterable` en paramètre: list, sum, min, max, zip, ..."
   ]
  },
  {
   "cell_type": "code",
   "execution_count": 16,
   "id": "31d12495-7067-41c1-99e8-f3a6e8daf3b8",
   "metadata": {},
   "outputs": [
    {
     "data": {
      "text/plain": [
       "np.float64(100024.88267997405)"
      ]
     },
     "execution_count": 16,
     "metadata": {},
     "output_type": "execute_result"
    }
   ],
   "source": [
    "sum(data)"
   ]
  },
  {
   "cell_type": "code",
   "execution_count": 17,
   "id": "57ac7a31-173f-47ab-8ee5-ede51922bc9d",
   "metadata": {},
   "outputs": [
    {
     "data": {
      "text/plain": [
       "\u001b[31mSignature:\u001b[39m sum(iterable, /, start=\u001b[32m0\u001b[39m)\n",
       "\u001b[31mDocstring:\u001b[39m\n",
       "Return the sum of a 'start' value (default: 0) plus an iterable of numbers\n",
       "\n",
       "When the iterable is empty, return the start value.\n",
       "This function is intended specifically for use with numeric values and may\n",
       "reject non-numeric types.\n",
       "\u001b[31mType:\u001b[39m      builtin_function_or_method"
      ]
     },
     "metadata": {},
     "output_type": "display_data"
    }
   ],
   "source": [
    "sum?"
   ]
  },
  {
   "cell_type": "code",
   "execution_count": 18,
   "id": "ba9edb26-fada-40de-94d0-ac8c7b82fe12",
   "metadata": {},
   "outputs": [
    {
     "data": {
      "text/plain": [
       "\u001b[31mInit signature:\u001b[39m zip(*iterables, strict=\u001b[38;5;28;01mFalse\u001b[39;00m)\n",
       "\u001b[31mDocstring:\u001b[39m     \n",
       "The zip object yields n-length tuples, where n is the number of iterables\n",
       "passed as positional arguments to zip().  The i-th element in every tuple\n",
       "comes from the i-th iterable argument to zip().  This continues until the\n",
       "shortest argument is exhausted.\n",
       "\n",
       "If strict is true and one of the arguments is exhausted before the others,\n",
       "raise a ValueError.\n",
       "\n",
       "   >>> list(zip('abcdefg', range(3), range(4)))\n",
       "   [('a', 0, 0), ('b', 1, 1), ('c', 2, 2)]\n",
       "\u001b[31mType:\u001b[39m           type\n",
       "\u001b[31mSubclasses:\u001b[39m     "
      ]
     },
     "metadata": {},
     "output_type": "display_data"
    }
   ],
   "source": [
    "zip?"
   ]
  },
  {
   "cell_type": "code",
   "execution_count": 19,
   "id": "e1bcae58-b410-4919-8ee8-777c1956c8e0",
   "metadata": {},
   "outputs": [
    {
     "name": "stdout",
     "output_type": "stream",
     "text": [
      "Lyon#L#nom\n",
      "Toulouse#e#population\n",
      "Balma# #code_postal\n"
     ]
    }
   ],
   "source": [
    "for v, ld, lv in zip(villes, dicton, ville):\n",
    "    print(v, ld, lv, sep='#')"
   ]
  },
  {
   "cell_type": "code",
   "execution_count": 20,
   "id": "8b198092-5c13-41bd-bcd6-521cd5903568",
   "metadata": {},
   "outputs": [],
   "source": [
    "# NB: read functions of pandas have some iterable arguments\n",
    "# pd.read_csv?"
   ]
  },
  {
   "cell_type": "markdown",
   "id": "0e389c41-9aff-48a6-9c84-42014872ff41",
   "metadata": {},
   "source": [
    "## Generators\n",
    "yield values one by one"
   ]
  },
  {
   "cell_type": "code",
   "execution_count": 21,
   "id": "27e0fb62-6cf1-4142-8a38-31e4dd277dfb",
   "metadata": {},
   "outputs": [
    {
     "data": {
      "text/plain": [
       "<generator object <genexpr> at 0x0000024C4C4564D0>"
      ]
     },
     "execution_count": 21,
     "metadata": {},
     "output_type": "execute_result"
    }
   ],
   "source": [
    "g = (v.upper() for v in villes)\n",
    "g"
   ]
  },
  {
   "cell_type": "code",
   "execution_count": 22,
   "id": "fefafa12-6909-43cc-a8f9-d3083371f5ae",
   "metadata": {},
   "outputs": [
    {
     "data": {
      "text/plain": [
       "'LYON'"
      ]
     },
     "execution_count": 22,
     "metadata": {},
     "output_type": "execute_result"
    }
   ],
   "source": [
    "next(g)"
   ]
  },
  {
   "cell_type": "code",
   "execution_count": 23,
   "id": "e70b8236-36fa-460b-a797-976d40a84f30",
   "metadata": {},
   "outputs": [],
   "source": [
    "assert isinstance(g, Iterable)\n",
    "assert isinstance(g, Iterator)"
   ]
  },
  {
   "cell_type": "code",
   "execution_count": 24,
   "id": "2cd1b06c-31b6-4289-876f-6de44cd08038",
   "metadata": {},
   "outputs": [
    {
     "data": {
      "text/plain": [
       "20"
      ]
     },
     "execution_count": 24,
     "metadata": {},
     "output_type": "execute_result"
    }
   ],
   "source": [
    "# sum([len(v) for v in villes])\n",
    "sum(len(v) for v in villes)"
   ]
  },
  {
   "cell_type": "code",
   "execution_count": 25,
   "id": "2b47ca1d-4808-45fc-bfd0-7b4afe7ec872",
   "metadata": {},
   "outputs": [],
   "source": [
    "def gen_v():\n",
    "    yield 0\n",
    "    yield 1\n",
    "    yield 2"
   ]
  },
  {
   "cell_type": "code",
   "execution_count": 26,
   "id": "72b05865-22d0-43c7-8024-40bdebe7294e",
   "metadata": {},
   "outputs": [
    {
     "data": {
      "text/plain": [
       "<generator object gen_v at 0x0000024C4C451C70>"
      ]
     },
     "execution_count": 26,
     "metadata": {},
     "output_type": "execute_result"
    }
   ],
   "source": [
    "g = gen_v()\n",
    "g"
   ]
  },
  {
   "cell_type": "code",
   "execution_count": 27,
   "id": "cd811b5c-ef28-4744-97d8-6d8e5ac075ea",
   "metadata": {},
   "outputs": [
    {
     "data": {
      "text/plain": [
       "0"
      ]
     },
     "execution_count": 27,
     "metadata": {},
     "output_type": "execute_result"
    }
   ],
   "source": [
    "next(g)"
   ]
  },
  {
   "cell_type": "code",
   "execution_count": 28,
   "id": "91363a10-d336-42d4-a19f-18284f9f88ef",
   "metadata": {},
   "outputs": [
    {
     "name": "stdout",
     "output_type": "stream",
     "text": [
      "0\n",
      "1\n",
      "2\n"
     ]
    }
   ],
   "source": [
    "for v in gen_v():\n",
    "    print(v)"
   ]
  },
  {
   "cell_type": "code",
   "execution_count": 29,
   "id": "b54830f4-d3d8-4535-9820-17bd3b76349f",
   "metadata": {},
   "outputs": [
    {
     "data": {
      "text/plain": [
       "[0, 1, 2]"
      ]
     },
     "execution_count": 29,
     "metadata": {},
     "output_type": "execute_result"
    }
   ],
   "source": [
    "values = list(gen_v())\n",
    "values"
   ]
  },
  {
   "cell_type": "code",
   "execution_count": 30,
   "id": "e1d80194-bde3-432c-a7e8-ed01177918e0",
   "metadata": {},
   "outputs": [
    {
     "data": {
      "text/plain": [
       "3"
      ]
     },
     "execution_count": 30,
     "metadata": {},
     "output_type": "execute_result"
    }
   ],
   "source": [
    "sum(gen_v())"
   ]
  },
  {
   "cell_type": "markdown",
   "id": "aab02edb-6242-4516-9c52-532f39483eea",
   "metadata": {},
   "source": [
    "### Atelier: Générateur suite de Fibonacci\n",
    "- V1: jusqu'au terme n\n",
    "  ```\n",
    "  termes = list(fibo(10))\n",
    "  \n",
    "  ``` \n",
    "- V2: infini\n",
    "  ```\n",
    "  g = fibo2()\n",
    "  ...\n",
    "  ```"
   ]
  },
  {
   "cell_type": "code",
   "execution_count": 31,
   "id": "8657940e-fc97-4eb8-a260-492257884ed7",
   "metadata": {},
   "outputs": [
    {
     "name": "stdout",
     "output_type": "stream",
     "text": [
      "0\n",
      "1\n",
      "1\n",
      "2\n",
      "3\n",
      "5\n",
      "8\n",
      "13\n",
      "21\n",
      "34\n"
     ]
    }
   ],
   "source": [
    "# V2: generateur infini\n",
    "def fibonacci():\n",
    "    a, b = 0, 1\n",
    "    while True:\n",
    "        yield a\n",
    "        a, b = b, a + b\n",
    "        \n",
    "# Afficher les 10 premiers nombres de Fibonacci\n",
    "fib_gen = fibonacci()\n",
    "for _ in range(10):\n",
    "    print(next(fib_gen))"
   ]
  },
  {
   "cell_type": "code",
   "execution_count": 32,
   "id": "d719860d-e4c0-4ea0-b40c-8a122151fcde",
   "metadata": {},
   "outputs": [],
   "source": [
    "# Exploitation du générateur infini jusqu'au crash:\n",
    "\n",
    "# fib_gen = fibonacci()\n",
    "# while True:\n",
    "#     print(next(fib_gen), end=' ,')"
   ]
  },
  {
   "cell_type": "code",
   "execution_count": 33,
   "id": "e9f309f3-1a83-4ddb-9c4a-0b78d192b133",
   "metadata": {},
   "outputs": [],
   "source": [
    "# V1: générateur fini\n",
    "def fibonacci_n(n):\n",
    "    a, b = 0, 1\n",
    "    for _ in range(n):\n",
    "        yield a\n",
    "        a, b = b, a + b"
   ]
  },
  {
   "cell_type": "code",
   "execution_count": 34,
   "id": "4c56db37-9619-4568-865c-7df5c1a9575b",
   "metadata": {},
   "outputs": [
    {
     "name": "stdout",
     "output_type": "stream",
     "text": [
      "[]\n",
      "[0]\n",
      "[0, 1]\n",
      "[0, 1, 1]\n",
      "[0, 1, 1, 2, 3, 5, 8, 13, 21, 34]\n"
     ]
    }
   ],
   "source": [
    "print(list(fibonacci_n(0)))\n",
    "print(list(fibonacci_n(1)))\n",
    "print(list(fibonacci_n(2)))\n",
    "print(list(fibonacci_n(3)))\n",
    "print(list(fibonacci_n(10)))"
   ]
  },
  {
   "cell_type": "code",
   "execution_count": 35,
   "id": "1f7154b4-8f32-4ddc-b75c-596e66557f1e",
   "metadata": {},
   "outputs": [],
   "source": [
    "g = fibonacci_n(0)\n",
    "assert iter(g) is g"
   ]
  }
 ],
 "metadata": {
  "kernelspec": {
   "display_name": "Python 3 (ipykernel)",
   "language": "python",
   "name": "python3"
  },
  "language_info": {
   "codemirror_mode": {
    "name": "ipython",
    "version": 3
   },
   "file_extension": ".py",
   "mimetype": "text/x-python",
   "name": "python",
   "nbconvert_exporter": "python",
   "pygments_lexer": "ipython3",
   "version": "3.13.7"
  }
 },
 "nbformat": 4,
 "nbformat_minor": 5
}
