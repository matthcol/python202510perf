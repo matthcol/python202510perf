{
 "cells": [
  {
   "cell_type": "markdown",
   "id": "bc161695-ced1-49d1-a38a-cd6e00f47a0e",
   "metadata": {},
   "source": [
    "# Decorateurs Python @\n",
    "On peut décorer:\n",
    "- classe\n",
    "- fonctions (y compris méthode)\n",
    "\n",
    "1 décorateur est une fonction qui enrichit l'objet décoré"
   ]
  },
  {
   "cell_type": "code",
   "execution_count": 110,
   "id": "98b4f780-fd80-464c-92ac-634ccbb466c4",
   "metadata": {},
   "outputs": [],
   "source": [
    "from datetime import datetime\n",
    "from functools import lru_cache, wraps\n",
    "from statistics import  mean, stdev"
   ]
  },
  {
   "cell_type": "markdown",
   "id": "6f521534-37a5-4c47-82dc-1533aac96737",
   "metadata": {},
   "source": [
    "## Intro avec lru_cache"
   ]
  },
  {
   "cell_type": "code",
   "execution_count": 2,
   "id": "ca973335-0878-4558-a0c0-c71c290f964d",
   "metadata": {},
   "outputs": [],
   "source": [
    "def f(x):\n",
    "    return x**2 + 1"
   ]
  },
  {
   "cell_type": "code",
   "execution_count": 3,
   "id": "63ce2000-d0bd-4fee-9af3-094710b74af6",
   "metadata": {},
   "outputs": [
    {
     "data": {
      "text/plain": [
       "<functools._lru_cache_wrapper at 0x210f02b0b40>"
      ]
     },
     "execution_count": 3,
     "metadata": {},
     "output_type": "execute_result"
    }
   ],
   "source": [
    "f2 = lru_cache(f)\n",
    "f2"
   ]
  },
  {
   "cell_type": "code",
   "execution_count": 4,
   "id": "4435a792-ce1c-4e60-ad58-7e3e0c5b7d9f",
   "metadata": {},
   "outputs": [
    {
     "data": {
      "text/plain": [
       "10"
      ]
     },
     "execution_count": 4,
     "metadata": {},
     "output_type": "execute_result"
    }
   ],
   "source": [
    "f2(3)"
   ]
  },
  {
   "cell_type": "code",
   "execution_count": 7,
   "id": "ebd07463-b28b-455c-844b-37b3823125f7",
   "metadata": {},
   "outputs": [
    {
     "data": {
      "text/plain": [
       "<functools._lru_cache_wrapper at 0x210f02b0d50>"
      ]
     },
     "execution_count": 7,
     "metadata": {},
     "output_type": "execute_result"
    }
   ],
   "source": [
    "@lru_cache\n",
    "def g(x):\n",
    "    return x**2 + 1\n",
    "\n",
    "g"
   ]
  },
  {
   "cell_type": "code",
   "execution_count": 8,
   "id": "1fcdee79-bb5a-44a9-85bb-8250c8ac2a99",
   "metadata": {},
   "outputs": [],
   "source": [
    "def fibo(n):\n",
    "    match n:\n",
    "        case 0:\n",
    "            return 0\n",
    "        case 1:\n",
    "            return 1\n",
    "        case _:\n",
    "            return fibo(n-1) + fibo(n-2)"
   ]
  },
  {
   "cell_type": "code",
   "execution_count": 14,
   "id": "ad3b9f9b-67d9-426b-a449-799c46ab060d",
   "metadata": {},
   "outputs": [
    {
     "name": "stdout",
     "output_type": "stream",
     "text": [
      "437 ms ± 2.45 ms per loop (mean ± std. dev. of 7 runs, 10 loops each)\n"
     ]
    }
   ],
   "source": [
    "%timeit -n10 -r7 fibo(30)"
   ]
  },
  {
   "cell_type": "code",
   "execution_count": 33,
   "id": "482805df-d85f-43ee-b0c9-ac10b1a97497",
   "metadata": {},
   "outputs": [],
   "source": [
    "@lru_cache\n",
    "def fastfibo(n):\n",
    "    match n:\n",
    "        case 0:\n",
    "            return 0\n",
    "        case 1:\n",
    "            return 1\n",
    "        case _:\n",
    "            return fastfibo(n-1) + fastfibo(n-2)"
   ]
  },
  {
   "cell_type": "code",
   "execution_count": 34,
   "id": "889d95e9-1d0f-42ee-a265-754aca4ed77e",
   "metadata": {},
   "outputs": [
    {
     "name": "stdout",
     "output_type": "stream",
     "text": [
      "The slowest run took 25.86 times longer than the fastest. This could mean that an intermediate result is being cached.\n",
      "651 ns ± 1.21 μs per loop (mean ± std. dev. of 7 runs, 10 loops each)\n"
     ]
    }
   ],
   "source": [
    "%timeit -n10 -r7 fastfibo(30)"
   ]
  },
  {
   "cell_type": "code",
   "execution_count": 35,
   "id": "715618db-c975-46ba-b41b-1353f02b5a69",
   "metadata": {},
   "outputs": [
    {
     "data": {
      "text/plain": [
       "CacheInfo(hits=97, misses=31, maxsize=128, currsize=31)"
      ]
     },
     "execution_count": 35,
     "metadata": {},
     "output_type": "execute_result"
    }
   ],
   "source": [
    "fastfibo.cache_info()"
   ]
  },
  {
   "cell_type": "code",
   "execution_count": 36,
   "id": "dcaf0ab3-5b8e-4bea-a4fa-42b49e37e7b7",
   "metadata": {},
   "outputs": [
    {
     "data": {
      "text/plain": [
       "69283081864224717136290077681328518273399124385204820718966040597691435587278383112277161967532530675374170857404743017623467220361778016172106855838975759985190398725"
      ]
     },
     "execution_count": 36,
     "metadata": {},
     "output_type": "execute_result"
    }
   ],
   "source": [
    "fastfibo(800)"
   ]
  },
  {
   "cell_type": "code",
   "execution_count": 37,
   "id": "c3f356e1-861c-4ab8-8d03-6920af4ad865",
   "metadata": {},
   "outputs": [
    {
     "data": {
      "text/plain": [
       "CacheInfo(hits=868, misses=801, maxsize=128, currsize=128)"
      ]
     },
     "execution_count": 37,
     "metadata": {},
     "output_type": "execute_result"
    }
   ],
   "source": [
    "fastfibo.cache_info()"
   ]
  },
  {
   "cell_type": "code",
   "execution_count": 38,
   "id": "b3b76579-be00-4fba-ba0f-c607449d6107",
   "metadata": {},
   "outputs": [],
   "source": [
    "@lru_cache(maxsize=500)\n",
    "def ultrafastfibo(n):\n",
    "    match n:\n",
    "        case 0:\n",
    "            return 0\n",
    "        case 1:\n",
    "            return 1\n",
    "        case _:\n",
    "            return ultrafastfibo(n-1) + ultrafastfibo(n-2)"
   ]
  },
  {
   "cell_type": "code",
   "execution_count": 40,
   "id": "981addc0-8577-4762-bd0f-5e18ea02072f",
   "metadata": {},
   "outputs": [],
   "source": [
    "fastfibo.cache_clear()\n",
    "ultrafastfibo.cache_clear()"
   ]
  },
  {
   "cell_type": "code",
   "execution_count": 46,
   "id": "a7412cda-7973-44c9-9c1d-83bd605c9cd7",
   "metadata": {},
   "outputs": [
    {
     "name": "stdout",
     "output_type": "stream",
     "text": [
      "The slowest run took 109.29 times longer than the fastest. This could mean that an intermediate result is being cached.\n",
      "2.33 μs ± 5.3 μs per loop (mean ± std. dev. of 7 runs, 10 loops each)\n",
      "The slowest run took 19.77 times longer than the fastest. This could mean that an intermediate result is being cached.\n",
      "501 ns ± 845 ns per loop (mean ± std. dev. of 7 runs, 10 loops each)\n"
     ]
    }
   ],
   "source": [
    "%timeit -n10 -r7 fastfibo(800)\n",
    "%timeit -n10 -r7 ultrafastfibo(800)"
   ]
  },
  {
   "cell_type": "code",
   "execution_count": 42,
   "id": "75504c21-ce93-49b3-b4fe-c72382684b80",
   "metadata": {},
   "outputs": [
    {
     "name": "stdout",
     "output_type": "stream",
     "text": [
      "233 ns ± 140 ns per loop (mean ± std. dev. of 7 runs, 10 loops each)\n",
      "221 ns ± 127 ns per loop (mean ± std. dev. of 7 runs, 10 loops each)\n"
     ]
    }
   ],
   "source": [
    "%timeit -n10 -r7 fastfibo(800)\n",
    "%timeit -n10 -r7 ultrafastfibo(800)"
   ]
  },
  {
   "cell_type": "code",
   "execution_count": 44,
   "id": "82cdf9b1-b3ca-4093-a070-e8f76a1985a0",
   "metadata": {},
   "outputs": [],
   "source": [
    "flashfibo = lru_cache(maxsize=800)(fibo)"
   ]
  },
  {
   "cell_type": "code",
   "execution_count": 48,
   "id": "ee569ca9-36d3-4e8b-92d4-71fd7df61296",
   "metadata": {},
   "outputs": [
    {
     "name": "stdout",
     "output_type": "stream",
     "text": [
      "The slowest run took 300923.84 times longer than the fastest. This could mean that an intermediate result is being cached.\n",
      "6.02 ms ± 14.7 ms per loop (mean ± std. dev. of 7 runs, 10 loops each)\n",
      "149 ns ± 76.1 ns per loop (mean ± std. dev. of 7 runs, 10 loops each)\n"
     ]
    }
   ],
   "source": [
    "# NB: seul le 1er appel est en cache, pas le recursif\n",
    "%timeit -n10 -r7 flashfibo(30)\n",
    "%timeit -n10 -r7 flashfibo(30)"
   ]
  },
  {
   "cell_type": "code",
   "execution_count": 50,
   "id": "86adb891-6a08-49c1-81f8-b858e97c72f0",
   "metadata": {},
   "outputs": [
    {
     "data": {
      "text/plain": [
       "{'maxsize': 800, 'typed': False}"
      ]
     },
     "execution_count": 50,
     "metadata": {},
     "output_type": "execute_result"
    }
   ],
   "source": [
    "flashfibo.cache_parameters()"
   ]
  },
  {
   "cell_type": "code",
   "execution_count": 64,
   "id": "c834bc5b-8a74-4c7f-968e-c13770bf35b6",
   "metadata": {},
   "outputs": [
    {
     "data": {
      "text/plain": [
       "\u001b[31mSignature:\u001b[39m       flashfibo(n)\n",
       "\u001b[31mCall signature:\u001b[39m  flashfibo(*args, **kwargs)\n",
       "\u001b[31mType:\u001b[39m            _lru_cache_wrapper\n",
       "\u001b[31mString form:\u001b[39m     <functools._lru_cache_wrapper object at 0x00000210F1244670>\n",
       "\u001b[31mFile:\u001b[39m            c:\\users\\matth\\appdata\\local\\temp\\ipykernel_15444\\3324397206.py\n",
       "\u001b[31mDocstring:\u001b[39m       <no docstring>\n",
       "\u001b[31mClass docstring:\u001b[39m\n",
       "Create a cached callable that wraps another function.\n",
       "\n",
       "user_function:      the function being cached\n",
       "\n",
       "maxsize:  0         for no caching\n",
       "          None      for unlimited cache size\n",
       "          n         for a bounded cache\n",
       "\n",
       "typed:    False     cache f(3) and f(3.0) as identical calls\n",
       "          True      cache f(3) and f(3.0) as distinct calls\n",
       "\n",
       "cache_info_type:    namedtuple class with the fields:\n",
       "                        hits misses currsize maxsize"
      ]
     },
     "metadata": {},
     "output_type": "display_data"
    }
   ],
   "source": [
    "flashfibo?"
   ]
  },
  {
   "cell_type": "markdown",
   "id": "0ba19795-2b32-4e80-9d41-b093b0352d21",
   "metadata": {},
   "source": [
    "## Decorateur custom\n",
    "https://realpython.com/primer-on-python-decorators/"
   ]
  },
  {
   "cell_type": "markdown",
   "id": "abbaf592-fd69-4219-99bd-6253e3686e1c",
   "metadata": {},
   "source": [
    "### Decorateur timing"
   ]
  },
  {
   "cell_type": "code",
   "execution_count": 77,
   "id": "8840b668-4e55-4ee2-963e-fb414037dfb6",
   "metadata": {},
   "outputs": [],
   "source": [
    "def timing(f):\n",
    "    @wraps(f) # from functools\n",
    "    def wrapper(*args, **kwargs):\n",
    "        dt1 = datetime.now()\n",
    "        result = f(*args, **kwargs)\n",
    "        dt2 = datetime.now()\n",
    "        delta = dt2 - dt1\n",
    "        print('Timing:', delta)\n",
    "        return result\n",
    "    # wrapper.__doc__ = f.__doc__\n",
    "    # wrapper.__name__ = ...\n",
    "    return wrapper"
   ]
  },
  {
   "cell_type": "code",
   "execution_count": 78,
   "id": "1a450e61-b30f-410d-bd1b-0f1be3b6cac0",
   "metadata": {},
   "outputs": [],
   "source": [
    "@timing\n",
    "def compute():\n",
    "    \"\"\"Fait un super calcul qui prend du temps\"\"\"\n",
    "    x = fibo(30)\n",
    "    print('Fibo (30) =', x)"
   ]
  },
  {
   "cell_type": "code",
   "execution_count": 79,
   "id": "d86e0764-3a0e-4abc-8c47-2df12a3c28a8",
   "metadata": {},
   "outputs": [
    {
     "name": "stdout",
     "output_type": "stream",
     "text": [
      "Fibo (30) = 832040\n",
      "Timing: 0:00:00.465244\n"
     ]
    }
   ],
   "source": [
    "compute()"
   ]
  },
  {
   "cell_type": "code",
   "execution_count": 73,
   "id": "9e2a70c4-3d96-47ff-ba21-b165abce0e6e",
   "metadata": {},
   "outputs": [
    {
     "data": {
      "text/plain": [
       "'compute'"
      ]
     },
     "execution_count": 73,
     "metadata": {},
     "output_type": "execute_result"
    }
   ],
   "source": [
    "compute.__name__"
   ]
  },
  {
   "cell_type": "code",
   "execution_count": 74,
   "id": "9cb41438-fccd-478e-815a-c01dc0da1fed",
   "metadata": {},
   "outputs": [
    {
     "data": {
      "text/plain": [
       "\u001b[31mSignature:\u001b[39m compute()\n",
       "\u001b[31mDocstring:\u001b[39m Fait un super calcul qui prend du temps\n",
       "\u001b[31mFile:\u001b[39m      c:\\users\\matth\\appdata\\local\\temp\\ipykernel_15444\\2133839334.py\n",
       "\u001b[31mType:\u001b[39m      function"
      ]
     },
     "metadata": {},
     "output_type": "display_data"
    }
   ],
   "source": [
    "compute?"
   ]
  },
  {
   "cell_type": "code",
   "execution_count": 80,
   "id": "45a86651-1b98-4052-bf3c-09e4a7b3db2c",
   "metadata": {},
   "outputs": [],
   "source": [
    "@timing\n",
    "def calcul(x):\n",
    "    return 2**x + 3"
   ]
  },
  {
   "cell_type": "code",
   "execution_count": 81,
   "id": "25f222d9-f7fe-41c2-87e1-b07c07a056b9",
   "metadata": {},
   "outputs": [
    {
     "name": "stdout",
     "output_type": "stream",
     "text": [
      "Timing: 0:00:00.000008\n"
     ]
    },
    {
     "data": {
      "text/plain": [
       "11"
      ]
     },
     "execution_count": 81,
     "metadata": {},
     "output_type": "execute_result"
    }
   ],
   "source": [
    "calcul(3)"
   ]
  },
  {
   "cell_type": "code",
   "execution_count": 82,
   "id": "07a91e6f-b08b-4d7e-bcc7-7c9ea6b4955c",
   "metadata": {},
   "outputs": [],
   "source": [
    "@timing\n",
    "def super_computation(a, b, c, /, *, d=3, e=True, **kwargs):\n",
    "    res = (a + b + c) * (d if e else -d) \n",
    "    if 'coef' in kwargs:\n",
    "        res *= kwargs['coef']\n",
    "    return res"
   ]
  },
  {
   "cell_type": "code",
   "execution_count": 86,
   "id": "16d90959-34f2-4980-a84f-3c03678fdba9",
   "metadata": {},
   "outputs": [
    {
     "name": "stdout",
     "output_type": "stream",
     "text": [
      "Timing: 0:00:00.000011\n"
     ]
    },
    {
     "data": {
      "text/plain": [
       "-27.0"
      ]
     },
     "execution_count": 86,
     "metadata": {},
     "output_type": "execute_result"
    }
   ],
   "source": [
    "super_computation(1, 2, 3, d=5, coef=0.9, dummy='dumber', e=False)"
   ]
  },
  {
   "cell_type": "code",
   "execution_count": 87,
   "id": "05584d6f-9e7a-43b1-a40c-693988791d0b",
   "metadata": {},
   "outputs": [],
   "source": [
    "values = [1, 2, 3]\n",
    "params = {\n",
    "    'd': 5, 'coef': 0.9, 'dummy': 'dumber', 'e': False\n",
    "}"
   ]
  },
  {
   "cell_type": "code",
   "execution_count": 89,
   "id": "796fc325-5d46-4547-a974-1a8dc02fa3e0",
   "metadata": {},
   "outputs": [
    {
     "name": "stdout",
     "output_type": "stream",
     "text": [
      "Timing: 0:00:00.000010\n"
     ]
    },
    {
     "data": {
      "text/plain": [
       "-27.0"
      ]
     },
     "execution_count": 89,
     "metadata": {},
     "output_type": "execute_result"
    }
   ],
   "source": [
    "super_computation(*values, toto='tutu', **params)"
   ]
  },
  {
   "cell_type": "code",
   "execution_count": 91,
   "id": "9a68ba72-5c40-4d34-844f-f6613fe14fdd",
   "metadata": {},
   "outputs": [
    {
     "name": "stdout",
     "output_type": "stream",
     "text": [
      "Timing: 0:00:00.000011\n"
     ]
    },
    {
     "data": {
      "text/plain": [
       "-27.0"
      ]
     },
     "execution_count": 91,
     "metadata": {},
     "output_type": "execute_result"
    }
   ],
   "source": [
    "name_f = 'super_computation'\n",
    "eval(name_f)(*values, toto='tutu', **params)"
   ]
  },
  {
   "cell_type": "markdown",
   "id": "30c0a7ce-79ff-423c-adce-6d8bde316918",
   "metadata": {},
   "source": [
    "### Décorateur avec paramètres"
   ]
  },
  {
   "cell_type": "code",
   "execution_count": 96,
   "id": "726e3263-f6cd-428b-8782-a034049a5a6b",
   "metadata": {},
   "outputs": [],
   "source": [
    "# comment ajouter un nb de fois à timing pour faire une moyenne et un ecart type\n",
    "# @timing(10)"
   ]
  },
  {
   "cell_type": "code",
   "execution_count": 126,
   "id": "4df6aff0-3b5c-482d-92e2-f5ce13e89101",
   "metadata": {},
   "outputs": [],
   "source": [
    "def timing(n: int = 1):\n",
    "    \n",
    "    def decorator(f):\n",
    "    \n",
    "        @wraps(f)\n",
    "        def wrapper(*args, **kwargs):\n",
    "            durations = []\n",
    "            for _ in range(n):\n",
    "                dt1 = datetime.now()\n",
    "                result = f(*args, **kwargs)\n",
    "                dt2 = datetime.now()\n",
    "                delta = dt2 - dt1\n",
    "                durations.append(delta.total_seconds()) \n",
    "            avg = mean(durations)\n",
    "            std = stdev(durations) if n > 1 else 0.0\n",
    "            print(f\"Executed {n} times. Avg: {avg:.6f}s | Std Dev: {std:.6f}s\")\n",
    "            print('Timing:', delta)\n",
    "            return result\n",
    "        \n",
    "        return wrapper\n",
    "        \n",
    "    if n <= 0:\n",
    "        raise ValueError(f\"n must be stritly positive, got {n}\")\n",
    "    return decorator"
   ]
  },
  {
   "cell_type": "code",
   "execution_count": 127,
   "id": "22c84f82-c0d2-43a2-8aff-6bb79d3ea36f",
   "metadata": {},
   "outputs": [
    {
     "name": "stdout",
     "output_type": "stream",
     "text": [
      "Executed 10 times. Avg: 0.000004s | Std Dev: 0.000003s\n",
      "Timing: 0:00:00.000002\n"
     ]
    },
    {
     "data": {
      "text/plain": [
       "-27.0"
      ]
     },
     "execution_count": 127,
     "metadata": {},
     "output_type": "execute_result"
    }
   ],
   "source": [
    "@timing(n=10)\n",
    "def super_computation(a, b, c, /, *, d=3, e=True, **kwargs):\n",
    "    res = (a + b + c) * (d if e else -d) \n",
    "    if 'coef' in kwargs:\n",
    "        res *= kwargs['coef']\n",
    "    return res\n",
    "\n",
    "super_computation(1, 2, 3, d=5, coef=0.9, dummy='dumber', e=False)"
   ]
  },
  {
   "cell_type": "code",
   "execution_count": 128,
   "id": "1edf3111-22e0-4c01-855d-e8fda743b169",
   "metadata": {},
   "outputs": [
    {
     "name": "stdout",
     "output_type": "stream",
     "text": [
      "ça n'est pas possible effectivement\n"
     ]
    }
   ],
   "source": [
    "try:\n",
    "    @timing(n=0)\n",
    "    def super_computation(a, b, c, /, *, d=3, e=True, **kwargs):\n",
    "        res = (a + b + c) * (d if e else -d) \n",
    "        if 'coef' in kwargs:\n",
    "            res *= kwargs['coef']\n",
    "        return res\n",
    "except ValueError:\n",
    "    print(\"ça n'est pas possible effectivement\")"
   ]
  },
  {
   "cell_type": "code",
   "execution_count": 129,
   "id": "627301d5-a219-4c1b-bbec-25ba02f704ef",
   "metadata": {},
   "outputs": [
    {
     "name": "stdout",
     "output_type": "stream",
     "text": [
      "Executed 1 times. Avg: 0.000010s | Std Dev: 0.000000s\n",
      "Timing: 0:00:00.000010\n"
     ]
    },
    {
     "data": {
      "text/plain": [
       "-27.0"
      ]
     },
     "execution_count": 129,
     "metadata": {},
     "output_type": "execute_result"
    }
   ],
   "source": [
    "@timing()\n",
    "def super_computation(a, b, c, /, *, d=3, e=True, **kwargs):\n",
    "    res = (a + b + c) * (d if e else -d) \n",
    "    if 'coef' in kwargs:\n",
    "        res *= kwargs['coef']\n",
    "    return res\n",
    "\n",
    "super_computation(1, 2, 3, d=5, coef=0.9, dummy='dumber', e=False)"
   ]
  },
  {
   "cell_type": "markdown",
   "id": "33a2ad2d-1101-45af-b43e-216eafe5a6bf",
   "metadata": {},
   "source": [
    "### Bonus appel decorator avec ou sans parenthèses"
   ]
  },
  {
   "cell_type": "code",
   "execution_count": 130,
   "id": "b35336d2-4e0e-4ad8-a364-c52773963d73",
   "metadata": {
    "collapsed": true,
    "jupyter": {
     "outputs_hidden": true
    }
   },
   "outputs": [
    {
     "data": {
      "text/plain": [
       "\u001b[31mSignature:\u001b[39m\n",
       "dataclass(\n",
       "    cls=\u001b[38;5;28;01mNone\u001b[39;00m,\n",
       "    /,\n",
       "    *,\n",
       "    init=\u001b[38;5;28;01mTrue\u001b[39;00m,\n",
       "    repr=\u001b[38;5;28;01mTrue\u001b[39;00m,\n",
       "    eq=\u001b[38;5;28;01mTrue\u001b[39;00m,\n",
       "    order=\u001b[38;5;28;01mFalse\u001b[39;00m,\n",
       "    unsafe_hash=\u001b[38;5;28;01mFalse\u001b[39;00m,\n",
       "    frozen=\u001b[38;5;28;01mFalse\u001b[39;00m,\n",
       "    match_args=\u001b[38;5;28;01mTrue\u001b[39;00m,\n",
       "    kw_only=\u001b[38;5;28;01mFalse\u001b[39;00m,\n",
       "    slots=\u001b[38;5;28;01mFalse\u001b[39;00m,\n",
       "    weakref_slot=\u001b[38;5;28;01mFalse\u001b[39;00m,\n",
       ")\n",
       "\u001b[31mDocstring:\u001b[39m\n",
       "Add dunder methods based on the fields defined in the class.\n",
       "\n",
       "Examines PEP 526 __annotations__ to determine fields.\n",
       "\n",
       "If init is true, an __init__() method is added to the class. If repr\n",
       "is true, a __repr__() method is added. If order is true, rich\n",
       "comparison dunder methods are added. If unsafe_hash is true, a\n",
       "__hash__() method is added. If frozen is true, fields may not be\n",
       "assigned to after instance creation. If match_args is true, the\n",
       "__match_args__ tuple is added. If kw_only is true, then by default\n",
       "all fields are keyword-only. If slots is true, a new class with a\n",
       "__slots__ attribute is returned.\n",
       "\u001b[31mFile:\u001b[39m      c:\\users\\matth\\miniconda3\\envs\\stage202510\\lib\\dataclasses.py\n",
       "\u001b[31mType:\u001b[39m      function"
      ]
     },
     "metadata": {},
     "output_type": "display_data"
    }
   ],
   "source": [
    "from dataclasses import dataclass\n",
    "dataclass?"
   ]
  },
  {
   "cell_type": "code",
   "execution_count": 132,
   "id": "49a392b9-61b0-4f90-99f1-81cf0310a1e1",
   "metadata": {},
   "outputs": [],
   "source": [
    "def timing(f=None, /, *, n: int = 1):\n",
    "    \n",
    "    def decorator(f):\n",
    "    \n",
    "        @wraps(f)\n",
    "        def wrapper(*args, **kwargs):\n",
    "            durations = []\n",
    "            for _ in range(n):\n",
    "                dt1 = datetime.now()\n",
    "                result = f(*args, **kwargs)\n",
    "                dt2 = datetime.now()\n",
    "                delta = dt2 - dt1\n",
    "                durations.append(delta.total_seconds()) \n",
    "            avg = mean(durations)\n",
    "            std = stdev(durations) if n > 1 else 0.0\n",
    "            print(f\"Executed {n} times. Avg: {avg:.6f}s | Std Dev: {std:.6f}s\")\n",
    "            print('Timing:', delta)\n",
    "            return result\n",
    "        \n",
    "        return wrapper\n",
    "        \n",
    "    if n <= 0:\n",
    "        raise ValueError(f\"n must be stritly positive, got {n}\")\n",
    "    if f is not None:\n",
    "        return decorator(f)\n",
    "    else:\n",
    "        return decorator"
   ]
  },
  {
   "cell_type": "code",
   "execution_count": 133,
   "id": "5b139ed6-5752-4b82-90b6-4dff81b18741",
   "metadata": {},
   "outputs": [
    {
     "name": "stdout",
     "output_type": "stream",
     "text": [
      "Executed 10 times. Avg: 0.000004s | Std Dev: 0.000003s\n",
      "Timing: 0:00:00.000002\n"
     ]
    },
    {
     "data": {
      "text/plain": [
       "-27.0"
      ]
     },
     "execution_count": 133,
     "metadata": {},
     "output_type": "execute_result"
    }
   ],
   "source": [
    "@timing(n=10)\n",
    "def super_computation(a, b, c, /, *, d=3, e=True, **kwargs):\n",
    "    res = (a + b + c) * (d if e else -d) \n",
    "    if 'coef' in kwargs:\n",
    "        res *= kwargs['coef']\n",
    "    return res\n",
    "\n",
    "super_computation(1, 2, 3, d=5, coef=0.9, dummy='dumber', e=False)"
   ]
  },
  {
   "cell_type": "code",
   "execution_count": 134,
   "id": "1523187b-d213-4154-9df3-5e3a650fe802",
   "metadata": {},
   "outputs": [
    {
     "name": "stdout",
     "output_type": "stream",
     "text": [
      "ça n'est pas possible effectivement\n"
     ]
    }
   ],
   "source": [
    "try:\n",
    "    @timing(n=0)\n",
    "    def super_computation(a, b, c, /, *, d=3, e=True, **kwargs):\n",
    "        res = (a + b + c) * (d if e else -d) \n",
    "        if 'coef' in kwargs:\n",
    "            res *= kwargs['coef']\n",
    "        return res\n",
    "except ValueError:\n",
    "    print(\"ça n'est pas possible effectivement\")"
   ]
  },
  {
   "cell_type": "code",
   "execution_count": 135,
   "id": "ca380cbf-2209-425e-98fc-cff1130f2eb4",
   "metadata": {},
   "outputs": [
    {
     "name": "stdout",
     "output_type": "stream",
     "text": [
      "Executed 1 times. Avg: 0.000012s | Std Dev: 0.000000s\n",
      "Timing: 0:00:00.000012\n"
     ]
    },
    {
     "data": {
      "text/plain": [
       "-27.0"
      ]
     },
     "execution_count": 135,
     "metadata": {},
     "output_type": "execute_result"
    }
   ],
   "source": [
    "@timing()\n",
    "def super_computation(a, b, c, /, *, d=3, e=True, **kwargs):\n",
    "    res = (a + b + c) * (d if e else -d) \n",
    "    if 'coef' in kwargs:\n",
    "        res *= kwargs['coef']\n",
    "    return res\n",
    "\n",
    "super_computation(1, 2, 3, d=5, coef=0.9, dummy='dumber', e=False)"
   ]
  },
  {
   "cell_type": "code",
   "execution_count": 136,
   "id": "b409e77e-4893-4d69-bde8-fe7b0595d027",
   "metadata": {},
   "outputs": [
    {
     "name": "stdout",
     "output_type": "stream",
     "text": [
      "Executed 1 times. Avg: 0.000011s | Std Dev: 0.000000s\n",
      "Timing: 0:00:00.000011\n"
     ]
    },
    {
     "data": {
      "text/plain": [
       "-27.0"
      ]
     },
     "execution_count": 136,
     "metadata": {},
     "output_type": "execute_result"
    }
   ],
   "source": [
    "@timing\n",
    "def super_computation(a, b, c, /, *, d=3, e=True, **kwargs):\n",
    "    res = (a + b + c) * (d if e else -d) \n",
    "    if 'coef' in kwargs:\n",
    "        res *= kwargs['coef']\n",
    "    return res\n",
    "\n",
    "super_computation(1, 2, 3, d=5, coef=0.9, dummy='dumber', e=False)"
   ]
  }
 ],
 "metadata": {
  "kernelspec": {
   "display_name": "Python 3 (ipykernel)",
   "language": "python",
   "name": "python3"
  },
  "language_info": {
   "codemirror_mode": {
    "name": "ipython",
    "version": 3
   },
   "file_extension": ".py",
   "mimetype": "text/x-python",
   "name": "python",
   "nbconvert_exporter": "python",
   "pygments_lexer": "ipython3",
   "version": "3.13.7"
  }
 },
 "nbformat": 4,
 "nbformat_minor": 5
}
