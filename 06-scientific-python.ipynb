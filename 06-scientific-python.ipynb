{
 "cells": [
  {
   "cell_type": "code",
   "execution_count": 1,
   "id": "ec767ce3-92aa-4bf3-9f68-56c1b2c3dd29",
   "metadata": {},
   "outputs": [],
   "source": [
    "import numpy as np"
   ]
  },
  {
   "cell_type": "code",
   "execution_count": 2,
   "id": "1c9876a7-8b7a-4037-b882-3bae074601fa",
   "metadata": {},
   "outputs": [
    {
     "data": {
      "text/plain": [
       "array([[0., 0., 0., ..., 0., 0., 0.],\n",
       "       [0., 0., 0., ..., 0., 0., 0.],\n",
       "       [0., 0., 0., ..., 0., 0., 0.],\n",
       "       ...,\n",
       "       [0., 0., 0., ..., 0., 0., 0.],\n",
       "       [0., 0., 0., ..., 0., 0., 0.],\n",
       "       [0., 0., 0., ..., 0., 0., 0.]], shape=(1000, 1000))"
      ]
     },
     "execution_count": 2,
     "metadata": {},
     "output_type": "execute_result"
    }
   ],
   "source": [
    "m = np.zeros(shape=(1000, 1000))\n",
    "m"
   ]
  },
  {
   "cell_type": "code",
   "execution_count": 3,
   "id": "5503b0c9-0a17-4a52-8684-99750ebb6fb5",
   "metadata": {},
   "outputs": [
    {
     "data": {
      "text/plain": [
       "array([ 8.26591557,  8.59292816,  8.35504355, ..., 11.18633023,\n",
       "        6.48875123,  8.94084253], shape=(10000,))"
      ]
     },
     "execution_count": 3,
     "metadata": {},
     "output_type": "execute_result"
    }
   ],
   "source": [
    "notes = np.random.normal(10.0, 2.5, 10000)\n",
    "notes"
   ]
  },
  {
   "cell_type": "code",
   "execution_count": 4,
   "id": "e81b9fd8-ca23-4cfd-80d6-8518f88af4a8",
   "metadata": {},
   "outputs": [
    {
     "data": {
      "text/plain": [
       "masked_array(data=[ 8.26591557,  8.59292816,  8.35504355, ...,\n",
       "                   11.18633023,  6.48875123,  8.94084253],\n",
       "             mask=False,\n",
       "       fill_value=1e+20)"
      ]
     },
     "execution_count": 4,
     "metadata": {},
     "output_type": "execute_result"
    }
   ],
   "source": [
    "notes_ma = np.ma.masked_less(notes, 0.0)\n",
    "notes_ma"
   ]
  },
  {
   "cell_type": "code",
   "execution_count": 5,
   "id": "2534df3c-4d45-4357-8920-d69575d1ff4e",
   "metadata": {},
   "outputs": [
    {
     "name": "stdout",
     "output_type": "stream",
     "text": [
      "0.6922365310079162 9.966995050005691 2.482753517761322\n",
      "0.6922365310079162 9.966995050005691 2.482753517761322\n"
     ]
    }
   ],
   "source": [
    "print(notes.min(), notes.mean(), notes.std())\n",
    "print(notes_ma.min(), notes_ma.mean(), notes_ma.std())"
   ]
  },
  {
   "cell_type": "code",
   "execution_count": 6,
   "id": "81c5c69a-fa85-45c4-860e-cfe3e3ec1511",
   "metadata": {},
   "outputs": [
    {
     "data": {
      "text/plain": [
       "numpy.ma.MaskedArray"
      ]
     },
     "execution_count": 6,
     "metadata": {},
     "output_type": "execute_result"
    }
   ],
   "source": [
    "type(notes_ma)"
   ]
  },
  {
   "cell_type": "code",
   "execution_count": 7,
   "id": "b4f8f776-337d-49b9-86a7-63bef680b58d",
   "metadata": {},
   "outputs": [],
   "source": [
    "_sum = sum\n",
    "from numpy import sum"
   ]
  }
 ],
 "metadata": {
  "kernelspec": {
   "display_name": "Python 3 (ipykernel)",
   "language": "python",
   "name": "python3"
  },
  "language_info": {
   "codemirror_mode": {
    "name": "ipython",
    "version": 3
   },
   "file_extension": ".py",
   "mimetype": "text/x-python",
   "name": "python",
   "nbconvert_exporter": "python",
   "pygments_lexer": "ipython3",
   "version": "3.13.7"
  }
 },
 "nbformat": 4,
 "nbformat_minor": 5
}
